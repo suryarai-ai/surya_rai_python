{
 "cells": [
  {
   "cell_type": "code",
   "execution_count": 1,
   "id": "9684156e-9d27-4140-bf15-217abfbb4b07",
   "metadata": {},
   "outputs": [
    {
     "name": "stdout",
     "output_type": "stream",
     "text": [
      "0\n",
      "1\n",
      "4\n",
      "9\n",
      "16\n",
      "25\n",
      "36\n",
      "49\n",
      "64\n",
      "81\n"
     ]
    }
   ],
   "source": [
    "for x in range(10):\n",
    "    print(x*x)"
   ]
  },
  {
   "cell_type": "code",
   "execution_count": 5,
   "id": "e250bd2d-ab10-47e6-9bca-2637a84d47ce",
   "metadata": {},
   "outputs": [],
   "source": [
    "def square(num):\n",
    "    sq= num*num\n",
    "    return sq"
   ]
  },
  {
   "cell_type": "code",
   "execution_count": 9,
   "id": "1c20a8dc-2bc9-47fa-89ed-24d23c54d846",
   "metadata": {},
   "outputs": [
    {
     "name": "stdout",
     "output_type": "stream",
     "text": [
      "Square is: 25\n"
     ]
    }
   ],
   "source": [
    "print('Square is:', square(5))"
   ]
  },
  {
   "cell_type": "code",
   "execution_count": 11,
   "id": "a1dab7f3-b0cd-4f76-a85d-775d5c65c013",
   "metadata": {},
   "outputs": [
    {
     "data": {
      "text/plain": [
       "16"
      ]
     },
     "execution_count": 11,
     "metadata": {},
     "output_type": "execute_result"
    }
   ],
   "source": [
    "square(4)"
   ]
  },
  {
   "cell_type": "code",
   "execution_count": 12,
   "id": "eacbf2b1-2371-47a7-83ab-d3a3f6e5ce0f",
   "metadata": {},
   "outputs": [
    {
     "ename": "TypeError",
     "evalue": "square() missing 1 required positional argument: 'num'",
     "output_type": "error",
     "traceback": [
      "\u001b[1;31m---------------------------------------------------------------------------\u001b[0m",
      "\u001b[1;31mTypeError\u001b[0m                                 Traceback (most recent call last)",
      "Cell \u001b[1;32mIn[12], line 1\u001b[0m\n\u001b[1;32m----> 1\u001b[0m square()\n",
      "\u001b[1;31mTypeError\u001b[0m: square() missing 1 required positional argument: 'num'"
     ]
    }
   ],
   "source": [
    "square()"
   ]
  },
  {
   "cell_type": "code",
   "execution_count": 13,
   "id": "cbd6d494-4d5c-4d55-a548-c28b0c993a9a",
   "metadata": {},
   "outputs": [],
   "source": [
    "def calc(num):\n",
    "    sq=num*num\n",
    "    cu=num**3\n",
    "    return sq,cu"
   ]
  },
  {
   "cell_type": "code",
   "execution_count": 14,
   "id": "56677293-c837-4921-b2b3-dedeeb8e2dcc",
   "metadata": {},
   "outputs": [
    {
     "data": {
      "text/plain": [
       "(25, 125)"
      ]
     },
     "execution_count": 14,
     "metadata": {},
     "output_type": "execute_result"
    }
   ],
   "source": [
    "calc(5)"
   ]
  },
  {
   "cell_type": "markdown",
   "id": "cd446eda-7f9d-4ba8-8063-152cddf12f78",
   "metadata": {},
   "source": [
    "#####list"
   ]
  },
  {
   "cell_type": "markdown",
   "id": "2e7176a4-00a7-48de-b98c-0e5c9c58d5bf",
   "metadata": {},
   "source": [
    "#####list"
   ]
  },
  {
   "cell_type": "markdown",
   "id": "b8a73dbe-5596-4c8a-aa78-111476d3c84c",
   "metadata": {},
   "source": [
    "#####List"
   ]
  },
  {
   "cell_type": "code",
   "execution_count": 15,
   "id": "7131cec9-ecc5-46f7-9b04-2c4acc65abc0",
   "metadata": {},
   "outputs": [],
   "source": [
    "num= [45,45,343]"
   ]
  },
  {
   "cell_type": "code",
   "execution_count": 15,
   "id": "174d9e02-599a-4889-82d4-66ae3d6ff585",
   "metadata": {},
   "outputs": [],
   "source": [
    "num= [45,45,343]"
   ]
  },
  {
   "cell_type": "code",
   "execution_count": 15,
   "id": "7ec939da-9750-4139-8cb2-e24b8f239374",
   "metadata": {},
   "outputs": [],
   "source": [
    "num= [45,45,343]"
   ]
  },
  {
   "cell_type": "code",
   "execution_count": 16,
   "id": "cb642a7a-915e-4afb-970d-17d5bcd5aae4",
   "metadata": {},
   "outputs": [
    {
     "data": {
      "text/plain": [
       "list"
      ]
     },
     "execution_count": 16,
     "metadata": {},
     "output_type": "execute_result"
    }
   ],
   "source": [
    "type(num)"
   ]
  },
  {
   "cell_type": "code",
   "execution_count": 17,
   "id": "7b2f27d2-1afc-4ee3-9b3f-064c9562119f",
   "metadata": {},
   "outputs": [],
   "source": [
    "num2= (45,45,343)"
   ]
  },
  {
   "cell_type": "code",
   "execution_count": 18,
   "id": "59a63fb3-ccb1-4539-9916-a22c17def11d",
   "metadata": {},
   "outputs": [
    {
     "data": {
      "text/plain": [
       "list"
      ]
     },
     "execution_count": 18,
     "metadata": {},
     "output_type": "execute_result"
    }
   ],
   "source": [
    "type(num)"
   ]
  },
  {
   "cell_type": "code",
   "execution_count": 19,
   "id": "c738f95c-d861-452a-95c5-fb38b3f19ef7",
   "metadata": {},
   "outputs": [
    {
     "data": {
      "text/plain": [
       "tuple"
      ]
     },
     "execution_count": 19,
     "metadata": {},
     "output_type": "execute_result"
    }
   ],
   "source": [
    "type(num2)"
   ]
  },
  {
   "cell_type": "code",
   "execution_count": 20,
   "id": "8d17236b-7f3a-4918-9f87-6c42d3f067e9",
   "metadata": {},
   "outputs": [
    {
     "data": {
      "text/plain": [
       "343"
      ]
     },
     "execution_count": 20,
     "metadata": {},
     "output_type": "execute_result"
    }
   ],
   "source": [
    "num2[2]"
   ]
  },
  {
   "cell_type": "code",
   "execution_count": 23,
   "id": "1544077b-ff0c-4aa8-8b99-9a6c36d3f70b",
   "metadata": {},
   "outputs": [],
   "source": [
    "num3={121,23,34,345,456,34}"
   ]
  },
  {
   "cell_type": "code",
   "execution_count": 24,
   "id": "d2156988-5529-4926-a173-2fa5f4a26f0e",
   "metadata": {},
   "outputs": [
    {
     "data": {
      "text/plain": [
       "set"
      ]
     },
     "execution_count": 24,
     "metadata": {},
     "output_type": "execute_result"
    }
   ],
   "source": [
    "type(num3)"
   ]
  },
  {
   "cell_type": "code",
   "execution_count": 25,
   "id": "fa5eb936-4a7b-4458-abf4-77a4f9d87b5a",
   "metadata": {},
   "outputs": [],
   "source": [
    "    num4 = {2:34, 5:67, 10:11, 12:23, 16:68, 'x':90}"
   ]
  },
  {
   "cell_type": "code",
   "execution_count": 26,
   "id": "a1e9df47-c8a1-4ede-adc2-f826008e0cc9",
   "metadata": {},
   "outputs": [
    {
     "data": {
      "text/plain": [
       "dict"
      ]
     },
     "execution_count": 26,
     "metadata": {},
     "output_type": "execute_result"
    }
   ],
   "source": [
    "type(num4)"
   ]
  },
  {
   "cell_type": "code",
   "execution_count": null,
   "id": "b2145dc0-9f59-44b8-934d-f334c1419458",
   "metadata": {},
   "outputs": [],
   "source": [
    "num1.\n"
   ]
  },
  {
   "cell_type": "code",
   "execution_count": 27,
   "id": "348b7c86-cf15-419f-8509-1b8b5593a14a",
   "metadata": {
    "scrolled": true
   },
   "outputs": [
    {
     "data": {
      "text/plain": [
       "34"
      ]
     },
     "execution_count": 27,
     "metadata": {},
     "output_type": "execute_result"
    }
   ],
   "source": [
    "num4[2]"
   ]
  },
  {
   "cell_type": "code",
   "execution_count": 28,
   "id": "1b44740b-863f-45a0-b0b6-4808012dceb1",
   "metadata": {},
   "outputs": [
    {
     "data": {
      "text/plain": [
       "<function set.remove>"
      ]
     },
     "execution_count": 28,
     "metadata": {},
     "output_type": "execute_result"
    }
   ],
   "source": [
    "num3.remove"
   ]
  },
  {
   "cell_type": "code",
   "execution_count": 29,
   "id": "715cd048-ade1-4a04-91cb-9fe7b9280d2e",
   "metadata": {},
   "outputs": [],
   "source": [
    "name = 'tusar'"
   ]
  },
  {
   "cell_type": "code",
   "execution_count": 31,
   "id": "0ec57ce0-e528-4aa3-a02f-16cbf9ef97ba",
   "metadata": {},
   "outputs": [
    {
     "data": {
      "text/plain": [
       "'TUSAR'"
      ]
     },
     "execution_count": 31,
     "metadata": {},
     "output_type": "execute_result"
    }
   ],
   "source": [
    "name.upper()"
   ]
  },
  {
   "cell_type": "code",
   "execution_count": 32,
   "id": "8ab4e0cb-5c7e-4cee-8c6c-d2eaf87678b9",
   "metadata": {},
   "outputs": [
    {
     "data": {
      "text/plain": [
       "dict_keys([2, 5, 10, 12, 16, 'x'])"
      ]
     },
     "execution_count": 32,
     "metadata": {},
     "output_type": "execute_result"
    }
   ],
   "source": [
    "num4.keys()"
   ]
  },
  {
   "cell_type": "code",
   "execution_count": 35,
   "id": "1537dd30-e322-4113-a241-d0691c80ff1c",
   "metadata": {},
   "outputs": [],
   "source": [
    "class Person:\n",
    "    def __init__(self,n,a):\n",
    "        self.name= n\n",
    "        self.age= a\n",
    "    def show(self):\n",
    "        print('valuse are:')\n",
    "        print(self.name,self.age)"
   ]
  },
  {
   "cell_type": "code",
   "execution_count": 36,
   "id": "da737836-6dab-4357-b84b-ce53a5cce5c1",
   "metadata": {},
   "outputs": [],
   "source": [
    "p1=Person('ajay',34)"
   ]
  },
  {
   "cell_type": "code",
   "execution_count": 37,
   "id": "a3636742-cc69-4c2f-9816-8314abc80659",
   "metadata": {},
   "outputs": [
    {
     "data": {
      "text/plain": [
       "'ajay'"
      ]
     },
     "execution_count": 37,
     "metadata": {},
     "output_type": "execute_result"
    }
   ],
   "source": [
    "p1.name"
   ]
  },
  {
   "cell_type": "code",
   "execution_count": 38,
   "id": "3a4ba644-52bd-45f2-ba51-0f751178132e",
   "metadata": {},
   "outputs": [
    {
     "data": {
      "text/plain": [
       "34"
      ]
     },
     "execution_count": 38,
     "metadata": {},
     "output_type": "execute_result"
    }
   ],
   "source": [
    "p1.age"
   ]
  },
  {
   "cell_type": "code",
   "execution_count": 39,
   "id": "1aa2ee2f-4e12-44dc-914c-a1a4339bdd12",
   "metadata": {},
   "outputs": [],
   "source": [
    "p2=Person('ram',22)"
   ]
  },
  {
   "cell_type": "code",
   "execution_count": 41,
   "id": "a63d3f83-cc55-4672-a4c8-0d79cd34a80f",
   "metadata": {},
   "outputs": [
    {
     "name": "stdout",
     "output_type": "stream",
     "text": [
      "valuse are:\n",
      "ram 22\n"
     ]
    }
   ],
   "source": [
    "p2.show()"
   ]
  },
  {
   "cell_type": "markdown",
   "id": "2824c343-0d19-44d3-aafd-781a301446da",
   "metadata": {},
   "source": [
    "#####Using the librARIES"
   ]
  },
  {
   "cell_type": "markdown",
   "id": "9cf3d6c8-d5f4-411a-8af2-529e8532042e",
   "metadata": {},
   "source": [
    "##### uSING Libraries\n"
   ]
  },
  {
   "cell_type": "code",
   "execution_count": 42,
   "id": "82021407-c80a-42c4-b2ce-763f09298c70",
   "metadata": {},
   "outputs": [],
   "source": [
    "import math"
   ]
  },
  {
   "cell_type": "code",
   "execution_count": 43,
   "id": "de66d6c2-8a58-48d3-80c3-6d1cefcff0f8",
   "metadata": {},
   "outputs": [
    {
     "name": "stdout",
     "output_type": "stream",
     "text": [
      "Help on built-in module math:\n",
      "\n",
      "NAME\n",
      "    math\n",
      "\n",
      "DESCRIPTION\n",
      "    This module provides access to the mathematical functions\n",
      "    defined by the C standard.\n",
      "\n",
      "FUNCTIONS\n",
      "    acos(x, /)\n",
      "        Return the arc cosine (measured in radians) of x.\n",
      "        \n",
      "        The result is between 0 and pi.\n",
      "    \n",
      "    acosh(x, /)\n",
      "        Return the inverse hyperbolic cosine of x.\n",
      "    \n",
      "    asin(x, /)\n",
      "        Return the arc sine (measured in radians) of x.\n",
      "        \n",
      "        The result is between -pi/2 and pi/2.\n",
      "    \n",
      "    asinh(x, /)\n",
      "        Return the inverse hyperbolic sine of x.\n",
      "    \n",
      "    atan(x, /)\n",
      "        Return the arc tangent (measured in radians) of x.\n",
      "        \n",
      "        The result is between -pi/2 and pi/2.\n",
      "    \n",
      "    atan2(y, x, /)\n",
      "        Return the arc tangent (measured in radians) of y/x.\n",
      "        \n",
      "        Unlike atan(y/x), the signs of both x and y are considered.\n",
      "    \n",
      "    atanh(x, /)\n",
      "        Return the inverse hyperbolic tangent of x.\n",
      "    \n",
      "    cbrt(x, /)\n",
      "        Return the cube root of x.\n",
      "    \n",
      "    ceil(x, /)\n",
      "        Return the ceiling of x as an Integral.\n",
      "        \n",
      "        This is the smallest integer >= x.\n",
      "    \n",
      "    comb(n, k, /)\n",
      "        Number of ways to choose k items from n items without repetition and without order.\n",
      "        \n",
      "        Evaluates to n! / (k! * (n - k)!) when k <= n and evaluates\n",
      "        to zero when k > n.\n",
      "        \n",
      "        Also called the binomial coefficient because it is equivalent\n",
      "        to the coefficient of k-th term in polynomial expansion of the\n",
      "        expression (1 + x)**n.\n",
      "        \n",
      "        Raises TypeError if either of the arguments are not integers.\n",
      "        Raises ValueError if either of the arguments are negative.\n",
      "    \n",
      "    copysign(x, y, /)\n",
      "        Return a float with the magnitude (absolute value) of x but the sign of y.\n",
      "        \n",
      "        On platforms that support signed zeros, copysign(1.0, -0.0)\n",
      "        returns -1.0.\n",
      "    \n",
      "    cos(x, /)\n",
      "        Return the cosine of x (measured in radians).\n",
      "    \n",
      "    cosh(x, /)\n",
      "        Return the hyperbolic cosine of x.\n",
      "    \n",
      "    degrees(x, /)\n",
      "        Convert angle x from radians to degrees.\n",
      "    \n",
      "    dist(p, q, /)\n",
      "        Return the Euclidean distance between two points p and q.\n",
      "        \n",
      "        The points should be specified as sequences (or iterables) of\n",
      "        coordinates.  Both inputs must have the same dimension.\n",
      "        \n",
      "        Roughly equivalent to:\n",
      "            sqrt(sum((px - qx) ** 2.0 for px, qx in zip(p, q)))\n",
      "    \n",
      "    erf(x, /)\n",
      "        Error function at x.\n",
      "    \n",
      "    erfc(x, /)\n",
      "        Complementary error function at x.\n",
      "    \n",
      "    exp(x, /)\n",
      "        Return e raised to the power of x.\n",
      "    \n",
      "    exp2(x, /)\n",
      "        Return 2 raised to the power of x.\n",
      "    \n",
      "    expm1(x, /)\n",
      "        Return exp(x)-1.\n",
      "        \n",
      "        This function avoids the loss of precision involved in the direct evaluation of exp(x)-1 for small x.\n",
      "    \n",
      "    fabs(x, /)\n",
      "        Return the absolute value of the float x.\n",
      "    \n",
      "    factorial(n, /)\n",
      "        Find n!.\n",
      "        \n",
      "        Raise a ValueError if x is negative or non-integral.\n",
      "    \n",
      "    floor(x, /)\n",
      "        Return the floor of x as an Integral.\n",
      "        \n",
      "        This is the largest integer <= x.\n",
      "    \n",
      "    fmod(x, y, /)\n",
      "        Return fmod(x, y), according to platform C.\n",
      "        \n",
      "        x % y may differ.\n",
      "    \n",
      "    frexp(x, /)\n",
      "        Return the mantissa and exponent of x, as pair (m, e).\n",
      "        \n",
      "        m is a float and e is an int, such that x = m * 2.**e.\n",
      "        If x is 0, m and e are both 0.  Else 0.5 <= abs(m) < 1.0.\n",
      "    \n",
      "    fsum(seq, /)\n",
      "        Return an accurate floating point sum of values in the iterable seq.\n",
      "        \n",
      "        Assumes IEEE-754 floating point arithmetic.\n",
      "    \n",
      "    gamma(x, /)\n",
      "        Gamma function at x.\n",
      "    \n",
      "    gcd(*integers)\n",
      "        Greatest Common Divisor.\n",
      "    \n",
      "    hypot(...)\n",
      "        hypot(*coordinates) -> value\n",
      "        \n",
      "        Multidimensional Euclidean distance from the origin to a point.\n",
      "        \n",
      "        Roughly equivalent to:\n",
      "            sqrt(sum(x**2 for x in coordinates))\n",
      "        \n",
      "        For a two dimensional point (x, y), gives the hypotenuse\n",
      "        using the Pythagorean theorem:  sqrt(x*x + y*y).\n",
      "        \n",
      "        For example, the hypotenuse of a 3/4/5 right triangle is:\n",
      "        \n",
      "            >>> hypot(3.0, 4.0)\n",
      "            5.0\n",
      "    \n",
      "    isclose(a, b, *, rel_tol=1e-09, abs_tol=0.0)\n",
      "        Determine whether two floating point numbers are close in value.\n",
      "        \n",
      "          rel_tol\n",
      "            maximum difference for being considered \"close\", relative to the\n",
      "            magnitude of the input values\n",
      "          abs_tol\n",
      "            maximum difference for being considered \"close\", regardless of the\n",
      "            magnitude of the input values\n",
      "        \n",
      "        Return True if a is close in value to b, and False otherwise.\n",
      "        \n",
      "        For the values to be considered close, the difference between them\n",
      "        must be smaller than at least one of the tolerances.\n",
      "        \n",
      "        -inf, inf and NaN behave similarly to the IEEE 754 Standard.  That\n",
      "        is, NaN is not close to anything, even itself.  inf and -inf are\n",
      "        only close to themselves.\n",
      "    \n",
      "    isfinite(x, /)\n",
      "        Return True if x is neither an infinity nor a NaN, and False otherwise.\n",
      "    \n",
      "    isinf(x, /)\n",
      "        Return True if x is a positive or negative infinity, and False otherwise.\n",
      "    \n",
      "    isnan(x, /)\n",
      "        Return True if x is a NaN (not a number), and False otherwise.\n",
      "    \n",
      "    isqrt(n, /)\n",
      "        Return the integer part of the square root of the input.\n",
      "    \n",
      "    lcm(*integers)\n",
      "        Least Common Multiple.\n",
      "    \n",
      "    ldexp(x, i, /)\n",
      "        Return x * (2**i).\n",
      "        \n",
      "        This is essentially the inverse of frexp().\n",
      "    \n",
      "    lgamma(x, /)\n",
      "        Natural logarithm of absolute value of Gamma function at x.\n",
      "    \n",
      "    log(...)\n",
      "        log(x, [base=math.e])\n",
      "        Return the logarithm of x to the given base.\n",
      "        \n",
      "        If the base not specified, returns the natural logarithm (base e) of x.\n",
      "    \n",
      "    log10(x, /)\n",
      "        Return the base 10 logarithm of x.\n",
      "    \n",
      "    log1p(x, /)\n",
      "        Return the natural logarithm of 1+x (base e).\n",
      "        \n",
      "        The result is computed in a way which is accurate for x near zero.\n",
      "    \n",
      "    log2(x, /)\n",
      "        Return the base 2 logarithm of x.\n",
      "    \n",
      "    modf(x, /)\n",
      "        Return the fractional and integer parts of x.\n",
      "        \n",
      "        Both results carry the sign of x and are floats.\n",
      "    \n",
      "    nextafter(x, y, /)\n",
      "        Return the next floating-point value after x towards y.\n",
      "    \n",
      "    perm(n, k=None, /)\n",
      "        Number of ways to choose k items from n items without repetition and with order.\n",
      "        \n",
      "        Evaluates to n! / (n - k)! when k <= n and evaluates\n",
      "        to zero when k > n.\n",
      "        \n",
      "        If k is not specified or is None, then k defaults to n\n",
      "        and the function returns n!.\n",
      "        \n",
      "        Raises TypeError if either of the arguments are not integers.\n",
      "        Raises ValueError if either of the arguments are negative.\n",
      "    \n",
      "    pow(x, y, /)\n",
      "        Return x**y (x to the power of y).\n",
      "    \n",
      "    prod(iterable, /, *, start=1)\n",
      "        Calculate the product of all the elements in the input iterable.\n",
      "        \n",
      "        The default start value for the product is 1.\n",
      "        \n",
      "        When the iterable is empty, return the start value.  This function is\n",
      "        intended specifically for use with numeric values and may reject\n",
      "        non-numeric types.\n",
      "    \n",
      "    radians(x, /)\n",
      "        Convert angle x from degrees to radians.\n",
      "    \n",
      "    remainder(x, y, /)\n",
      "        Difference between x and the closest integer multiple of y.\n",
      "        \n",
      "        Return x - n*y where n*y is the closest integer multiple of y.\n",
      "        In the case where x is exactly halfway between two multiples of\n",
      "        y, the nearest even value of n is used. The result is always exact.\n",
      "    \n",
      "    sin(x, /)\n",
      "        Return the sine of x (measured in radians).\n",
      "    \n",
      "    sinh(x, /)\n",
      "        Return the hyperbolic sine of x.\n",
      "    \n",
      "    sqrt(x, /)\n",
      "        Return the square root of x.\n",
      "    \n",
      "    tan(x, /)\n",
      "        Return the tangent of x (measured in radians).\n",
      "    \n",
      "    tanh(x, /)\n",
      "        Return the hyperbolic tangent of x.\n",
      "    \n",
      "    trunc(x, /)\n",
      "        Truncates the Real x to the nearest Integral toward 0.\n",
      "        \n",
      "        Uses the __trunc__ magic method.\n",
      "    \n",
      "    ulp(x, /)\n",
      "        Return the value of the least significant bit of the float x.\n",
      "\n",
      "DATA\n",
      "    e = 2.718281828459045\n",
      "    inf = inf\n",
      "    nan = nan\n",
      "    pi = 3.141592653589793\n",
      "    tau = 6.283185307179586\n",
      "\n",
      "FILE\n",
      "    (built-in)\n",
      "\n",
      "\n"
     ]
    }
   ],
   "source": [
    "help(math)"
   ]
  },
  {
   "cell_type": "code",
   "execution_count": 44,
   "id": "b495bbed-33c3-4da8-b01e-31a5971ff1a4",
   "metadata": {},
   "outputs": [
    {
     "data": {
      "text/plain": [
       "3.141592653589793"
      ]
     },
     "execution_count": 44,
     "metadata": {},
     "output_type": "execute_result"
    }
   ],
   "source": [
    "math.pi"
   ]
  },
  {
   "cell_type": "code",
   "execution_count": 45,
   "id": "10072b3e-e73f-4430-b586-f49080e446ee",
   "metadata": {},
   "outputs": [
    {
     "data": {
      "text/plain": [
       "3.4641016151377544"
      ]
     },
     "execution_count": 45,
     "metadata": {},
     "output_type": "execute_result"
    }
   ],
   "source": [
    "math.sqrt(12)"
   ]
  },
  {
   "cell_type": "code",
   "execution_count": 46,
   "id": "ee710109-2a16-45da-9290-09661da8c479",
   "metadata": {},
   "outputs": [
    {
     "data": {
      "text/plain": [
       "-0.5365729180004349"
      ]
     },
     "execution_count": 46,
     "metadata": {},
     "output_type": "execute_result"
    }
   ],
   "source": [
    "math.sin(12)"
   ]
  },
  {
   "cell_type": "code",
   "execution_count": 47,
   "id": "348bc27d-8a84-41cc-91e0-52ec324fe46b",
   "metadata": {},
   "outputs": [
    {
     "data": {
      "text/plain": [
       "479001600"
      ]
     },
     "execution_count": 47,
     "metadata": {},
     "output_type": "execute_result"
    }
   ],
   "source": [
    "math.factorial(12)"
   ]
  },
  {
   "cell_type": "markdown",
   "id": "fa44ae9a-ef5f-4e28-9efc-baadb3cfedbf",
   "metadata": {},
   "source": [
    "m.sqrt(9)"
   ]
  },
  {
   "cell_type": "code",
   "execution_count": 48,
   "id": "293d870c-15c3-454c-bfcd-06d0e02c55d6",
   "metadata": {},
   "outputs": [
    {
     "ename": "NameError",
     "evalue": "name 'm' is not defined",
     "output_type": "error",
     "traceback": [
      "\u001b[1;31m---------------------------------------------------------------------------\u001b[0m",
      "\u001b[1;31mNameError\u001b[0m                                 Traceback (most recent call last)",
      "Cell \u001b[1;32mIn[48], line 1\u001b[0m\n\u001b[1;32m----> 1\u001b[0m m\u001b[38;5;241m.\u001b[39msqrt(\u001b[38;5;241m9\u001b[39m)\n",
      "\u001b[1;31mNameError\u001b[0m: name 'm' is not defined"
     ]
    }
   ],
   "source": [
    "m.sqrt(9)"
   ]
  },
  {
   "cell_type": "code",
   "execution_count": 49,
   "id": "d8078ff6-16e6-433f-bab4-82955034ee54",
   "metadata": {},
   "outputs": [
    {
     "ename": "NameError",
     "evalue": "name 'm' is not defined",
     "output_type": "error",
     "traceback": [
      "\u001b[1;31m---------------------------------------------------------------------------\u001b[0m",
      "\u001b[1;31mNameError\u001b[0m                                 Traceback (most recent call last)",
      "Cell \u001b[1;32mIn[49], line 1\u001b[0m\n\u001b[1;32m----> 1\u001b[0m m\u001b[38;5;241m.\u001b[39me\n",
      "\u001b[1;31mNameError\u001b[0m: name 'm' is not defined"
     ]
    }
   ],
   "source": [
    "m.e"
   ]
  },
  {
   "cell_type": "code",
   "execution_count": 50,
   "id": "bb66b3a3-4941-43e3-a0ad-ea255c4a7bb1",
   "metadata": {},
   "outputs": [],
   "source": [
    "import math as m"
   ]
  },
  {
   "cell_type": "code",
   "execution_count": 51,
   "id": "d32508a3-f6bc-4baa-9e4c-30f0941c1ee2",
   "metadata": {},
   "outputs": [
    {
     "data": {
      "text/plain": [
       "2.718281828459045"
      ]
     },
     "execution_count": 51,
     "metadata": {},
     "output_type": "execute_result"
    }
   ],
   "source": [
    "m.e"
   ]
  },
  {
   "cell_type": "code",
   "execution_count": 52,
   "id": "73d4e128-25d2-40b2-a642-4927a48598d9",
   "metadata": {},
   "outputs": [],
   "source": [
    "from math import sqrt, pi"
   ]
  },
  {
   "cell_type": "code",
   "execution_count": 53,
   "id": "0e797586-cd86-42ca-9afb-bd521ff01b37",
   "metadata": {},
   "outputs": [
    {
     "data": {
      "text/plain": [
       "9.9498743710662"
      ]
     },
     "execution_count": 53,
     "metadata": {},
     "output_type": "execute_result"
    }
   ],
   "source": [
    "sqrt(99)"
   ]
  },
  {
   "cell_type": "code",
   "execution_count": 54,
   "id": "87311a41-f851-44e7-8cba-206d6d3037f0",
   "metadata": {},
   "outputs": [
    {
     "data": {
      "text/plain": [
       "3.141592653589793"
      ]
     },
     "execution_count": 54,
     "metadata": {},
     "output_type": "execute_result"
    }
   ],
   "source": [
    "pi"
   ]
  },
  {
   "cell_type": "code",
   "execution_count": null,
   "id": "16cd86bb-25d7-42a0-ab85-528b0afe3745",
   "metadata": {},
   "outputs": [],
   "source": []
  }
 ],
 "metadata": {
  "kernelspec": {
   "display_name": "Python 3 (ipykernel)",
   "language": "python",
   "name": "python3"
  },
  "language_info": {
   "codemirror_mode": {
    "name": "ipython",
    "version": 3
   },
   "file_extension": ".py",
   "mimetype": "text/x-python",
   "name": "python",
   "nbconvert_exporter": "python",
   "pygments_lexer": "ipython3",
   "version": "3.11.7"
  }
 },
 "nbformat": 4,
 "nbformat_minor": 5
}
