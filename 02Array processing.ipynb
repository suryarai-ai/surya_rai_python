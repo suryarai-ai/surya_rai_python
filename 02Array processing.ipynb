{
 "cells": [
  {
   "cell_type": "code",
   "execution_count": 1,
   "id": "3f428ebd-a603-4aac-8d72-b473273bb57a",
   "metadata": {},
   "outputs": [],
   "source": [
    "import numpy as np"
   ]
  },
  {
   "cell_type": "code",
   "execution_count": 3,
   "id": "c008ed38-9397-4faf-81d1-ff003241fd13",
   "metadata": {},
   "outputs": [],
   "source": [
    "x = np.array([56,12,35,48,71,11,28])"
   ]
  },
  {
   "cell_type": "code",
   "execution_count": 4,
   "id": "2c0147f1-fca1-4467-8dff-790b91b5fa72",
   "metadata": {},
   "outputs": [
    {
     "name": "stdout",
     "output_type": "stream",
     "text": [
      "[56 12 35 48 71 11 28]\n"
     ]
    }
   ],
   "source": [
    "print(x)"
   ]
  },
  {
   "cell_type": "code",
   "execution_count": 5,
   "id": "09388a05-f68d-4681-9869-c7ad10904a76",
   "metadata": {},
   "outputs": [
    {
     "data": {
      "text/plain": [
       "numpy.ndarray"
      ]
     },
     "execution_count": 5,
     "metadata": {},
     "output_type": "execute_result"
    }
   ],
   "source": [
    "\n",
    "type(x)"
   ]
  },
  {
   "cell_type": "code",
   "execution_count": 9,
   "id": "840d2986-5b46-4e58-9d3e-67ea81ee3b3d",
   "metadata": {},
   "outputs": [
    {
     "data": {
      "text/plain": [
       "1"
      ]
     },
     "execution_count": 9,
     "metadata": {},
     "output_type": "execute_result"
    }
   ],
   "source": [
    "x.ndim"
   ]
  },
  {
   "cell_type": "code",
   "execution_count": 11,
   "id": "776ca25a-cb95-4ca3-98f8-e20c86a2a550",
   "metadata": {},
   "outputs": [
    {
     "data": {
      "text/plain": [
       "array([56, 12, 35, 48, 71, 11, 28])"
      ]
     },
     "execution_count": 11,
     "metadata": {},
     "output_type": "execute_result"
    }
   ],
   "source": [
    "x"
   ]
  },
  {
   "cell_type": "code",
   "execution_count": 13,
   "id": "a829ff07-1875-4299-9d19-e211c8d4fd73",
   "metadata": {},
   "outputs": [
    {
     "data": {
      "text/plain": [
       "dtype('int32')"
      ]
     },
     "execution_count": 13,
     "metadata": {},
     "output_type": "execute_result"
    }
   ],
   "source": [
    "x.dtype"
   ]
  },
  {
   "cell_type": "code",
   "execution_count": 15,
   "id": "3483a67a-54c1-4073-a3ce-4e38828d07bb",
   "metadata": {},
   "outputs": [],
   "source": [
    "a = 67865344444444444444447908098096783428947293847934798237293742937429384729387948"
   ]
  },
  {
   "cell_type": "code",
   "execution_count": 17,
   "id": "ff57ea6f-b4dc-49cd-911e-3a602daa168e",
   "metadata": {},
   "outputs": [
    {
     "data": {
      "text/plain": [
       "67865344444444444444447908098096783428947293847934798237293742937429384729387948"
      ]
     },
     "execution_count": 17,
     "metadata": {},
     "output_type": "execute_result"
    }
   ],
   "source": [
    "a"
   ]
  },
  {
   "cell_type": "code",
   "execution_count": 19,
   "id": "17006463-2606-4f2d-8070-7302fc1c6070",
   "metadata": {},
   "outputs": [
    {
     "data": {
      "text/plain": [
       "array([56, 12, 35, 48, 71, 11, 28])"
      ]
     },
     "execution_count": 19,
     "metadata": {},
     "output_type": "execute_result"
    }
   ],
   "source": [
    "x"
   ]
  },
  {
   "cell_type": "code",
   "execution_count": 21,
   "id": "739b5173-fbd7-4654-9ba1-5d787bf9aaa8",
   "metadata": {},
   "outputs": [],
   "source": [
    "x = np.array([56,12,35,48,71,11,28], dtype = np.int64)"
   ]
  },
  {
   "cell_type": "code",
   "execution_count": 23,
   "id": "ba063b11-f943-4234-a889-a4c85637abed",
   "metadata": {},
   "outputs": [
    {
     "data": {
      "text/plain": [
       "array([56, 12, 35, 48, 71, 11, 28], dtype=int64)"
      ]
     },
     "execution_count": 23,
     "metadata": {},
     "output_type": "execute_result"
    }
   ],
   "source": [
    "x"
   ]
  },
  {
   "cell_type": "code",
   "execution_count": 25,
   "id": "bd8b74be-b686-41b4-a2fc-2d7221fe7051",
   "metadata": {},
   "outputs": [],
   "source": [
    "x = np.array([56,12,35,48,71,11,28], dtype = np.int8)"
   ]
  },
  {
   "cell_type": "code",
   "execution_count": 27,
   "id": "7f076631-6452-4824-a4ad-23e44d5444e6",
   "metadata": {},
   "outputs": [
    {
     "data": {
      "text/plain": [
       "array([56, 12, 35, 48, 71, 11, 28], dtype=int8)"
      ]
     },
     "execution_count": 27,
     "metadata": {},
     "output_type": "execute_result"
    }
   ],
   "source": [
    "x"
   ]
  },
  {
   "cell_type": "code",
   "execution_count": 29,
   "id": "63958bc0-a170-4657-a38e-33034707c3ec",
   "metadata": {},
   "outputs": [],
   "source": [
    "x[0] = 78"
   ]
  },
  {
   "cell_type": "code",
   "execution_count": 31,
   "id": "40addcd7-82a8-4600-9f78-3ff7479739c1",
   "metadata": {},
   "outputs": [
    {
     "data": {
      "text/plain": [
       "array([78, 12, 35, 48, 71, 11, 28], dtype=int8)"
      ]
     },
     "execution_count": 31,
     "metadata": {},
     "output_type": "execute_result"
    }
   ],
   "source": [
    "x"
   ]
  },
  {
   "cell_type": "code",
   "execution_count": 33,
   "id": "cac594f3-eaac-41e6-a134-b2db0ada3c5c",
   "metadata": {},
   "outputs": [],
   "source": [
    "x[2] = 99"
   ]
  },
  {
   "cell_type": "code",
   "execution_count": 35,
   "id": "76803d8e-979e-46e6-846d-c6f9537ae880",
   "metadata": {},
   "outputs": [
    {
     "data": {
      "text/plain": [
       "array([78, 12, 99, 48, 71, 11, 28], dtype=int8)"
      ]
     },
     "execution_count": 35,
     "metadata": {},
     "output_type": "execute_result"
    }
   ],
   "source": [
    "x"
   ]
  },
  {
   "cell_type": "code",
   "execution_count": 37,
   "id": "32c3cde9-4650-43b8-a3c2-fadf599df152",
   "metadata": {},
   "outputs": [
    {
     "data": {
      "text/plain": [
       "7"
      ]
     },
     "execution_count": 37,
     "metadata": {},
     "output_type": "execute_result"
    }
   ],
   "source": [
    "x.size"
   ]
  },
  {
   "cell_type": "code",
   "execution_count": 39,
   "id": "48a1cc44-6eda-42d8-97eb-57ca3a30d42b",
   "metadata": {},
   "outputs": [
    {
     "ename": "IndexError",
     "evalue": "index 9 is out of bounds for axis 0 with size 7",
     "output_type": "error",
     "traceback": [
      "\u001b[1;31m---------------------------------------------------------------------------\u001b[0m",
      "\u001b[1;31mIndexError\u001b[0m                                Traceback (most recent call last)",
      "Cell \u001b[1;32mIn[39], line 1\u001b[0m\n\u001b[1;32m----> 1\u001b[0m x[\u001b[38;5;241m9\u001b[39m]\u001b[38;5;241m=\u001b[39m\u001b[38;5;241m89\u001b[39m\n",
      "\u001b[1;31mIndexError\u001b[0m: index 9 is out of bounds for axis 0 with size 7"
     ]
    }
   ],
   "source": [
    "x[9]=89"
   ]
  },
  {
   "cell_type": "code",
   "execution_count": null,
   "id": "37c1e50e-5105-429a-89ac-1e25c126f8df",
   "metadata": {},
   "outputs": [],
   "source": [
    "x"
   ]
  },
  {
   "cell_type": "code",
   "execution_count": 42,
   "id": "43c1773b-d4fd-4279-9438-ba64f051b508",
   "metadata": {},
   "outputs": [
    {
     "data": {
      "text/plain": [
       "(7,)"
      ]
     },
     "execution_count": 42,
     "metadata": {},
     "output_type": "execute_result"
    }
   ],
   "source": [
    "x.shape"
   ]
  },
  {
   "cell_type": "code",
   "execution_count": 44,
   "id": "c9375101-1432-4df0-b6bf-2fa826899791",
   "metadata": {},
   "outputs": [
    {
     "data": {
      "text/plain": [
       "11"
      ]
     },
     "execution_count": 44,
     "metadata": {},
     "output_type": "execute_result"
    }
   ],
   "source": [
    "x.min()"
   ]
  },
  {
   "cell_type": "code",
   "execution_count": 46,
   "id": "bb579c62-6472-4d32-9c5c-2755bc63193b",
   "metadata": {},
   "outputs": [
    {
     "data": {
      "text/plain": [
       "99"
      ]
     },
     "execution_count": 46,
     "metadata": {},
     "output_type": "execute_result"
    }
   ],
   "source": [
    "x.max()"
   ]
  },
  {
   "cell_type": "code",
   "execution_count": 48,
   "id": "dd176e2b-4a32-43c4-b62b-af7c4c89b7e9",
   "metadata": {},
   "outputs": [
    {
     "data": {
      "text/plain": [
       "49.57142857142857"
      ]
     },
     "execution_count": 48,
     "metadata": {},
     "output_type": "execute_result"
    }
   ],
   "source": [
    "x.mean()"
   ]
  },
  {
   "cell_type": "code",
   "execution_count": 50,
   "id": "925d8580-e3a5-4738-b05c-595b1c85b70c",
   "metadata": {},
   "outputs": [
    {
     "data": {
      "text/plain": [
       "31.79783075645769"
      ]
     },
     "execution_count": 50,
     "metadata": {},
     "output_type": "execute_result"
    }
   ],
   "source": [
    "x.std()"
   ]
  },
  {
   "cell_type": "code",
   "execution_count": 52,
   "id": "088733cc-4507-4bf3-bd8f-98bdbbdb93d7",
   "metadata": {},
   "outputs": [
    {
     "data": {
      "text/plain": [
       "347"
      ]
     },
     "execution_count": 52,
     "metadata": {},
     "output_type": "execute_result"
    }
   ],
   "source": [
    "x.sum()"
   ]
  },
  {
   "cell_type": "code",
   "execution_count": 54,
   "id": "14628a0c-dca3-46f1-be7b-7cacd9de9286",
   "metadata": {},
   "outputs": [],
   "source": [
    "y = np.array([67, 89, 45.34, 69, 11, 35])"
   ]
  },
  {
   "cell_type": "code",
   "execution_count": 56,
   "id": "4c92b88f-65f8-4172-b10f-f6de0968a699",
   "metadata": {},
   "outputs": [
    {
     "data": {
      "text/plain": [
       "array([67.  , 89.  , 45.34, 69.  , 11.  , 35.  ])"
      ]
     },
     "execution_count": 56,
     "metadata": {},
     "output_type": "execute_result"
    }
   ],
   "source": [
    "y"
   ]
  },
  {
   "cell_type": "code",
   "execution_count": 58,
   "id": "90062799-da30-4bd3-a1db-e9103e14a0f1",
   "metadata": {},
   "outputs": [
    {
     "data": {
      "text/plain": [
       "dtype('float64')"
      ]
     },
     "execution_count": 58,
     "metadata": {},
     "output_type": "execute_result"
    }
   ],
   "source": [
    "y.dtype"
   ]
  },
  {
   "cell_type": "code",
   "execution_count": 60,
   "id": "4880e4b9-1bbb-4d0e-907c-76eac38f1f18",
   "metadata": {},
   "outputs": [],
   "source": [
    "z = np.array([67, 89, 45.34, 69, 11, True])"
   ]
  },
  {
   "cell_type": "code",
   "execution_count": 62,
   "id": "164fd8eb-39eb-4d94-a16c-a23802a7bca4",
   "metadata": {},
   "outputs": [
    {
     "data": {
      "text/plain": [
       "array([67.  , 89.  , 45.34, 69.  , 11.  ,  1.  ])"
      ]
     },
     "execution_count": 62,
     "metadata": {},
     "output_type": "execute_result"
    }
   ],
   "source": [
    "z"
   ]
  },
  {
   "cell_type": "code",
   "execution_count": 64,
   "id": "52373191-4b13-457c-b4b6-7ae26cc82860",
   "metadata": {},
   "outputs": [],
   "source": [
    "z = np.zeros(10, dtype = np.int16)"
   ]
  },
  {
   "cell_type": "code",
   "execution_count": 66,
   "id": "0e5c97ff-1949-4271-8e5f-33da08ee199b",
   "metadata": {},
   "outputs": [
    {
     "data": {
      "text/plain": [
       "array([0, 0, 0, 0, 0, 0, 0, 0, 0, 0], dtype=int16)"
      ]
     },
     "execution_count": 66,
     "metadata": {},
     "output_type": "execute_result"
    }
   ],
   "source": [
    "z"
   ]
  },
  {
   "cell_type": "code",
   "execution_count": 68,
   "id": "39e895e1-63bb-4915-ad16-e6eda1e4c0c6",
   "metadata": {},
   "outputs": [],
   "source": [
    "o = np.ones(10, dtype=np.int16)"
   ]
  },
  {
   "cell_type": "code",
   "execution_count": 70,
   "id": "91b826dc-3509-4dee-b8c7-8397d8fa6fc4",
   "metadata": {},
   "outputs": [
    {
     "data": {
      "text/plain": [
       "array([1, 1, 1, 1, 1, 1, 1, 1, 1, 1], dtype=int16)"
      ]
     },
     "execution_count": 70,
     "metadata": {},
     "output_type": "execute_result"
    }
   ],
   "source": [
    "o"
   ]
  },
  {
   "cell_type": "code",
   "execution_count": 72,
   "id": "2da38e25-5736-459b-91bb-1c0edf5f92cc",
   "metadata": {},
   "outputs": [
    {
     "data": {
      "text/plain": [
       "array([0, 1, 2, 3, 4, 5, 6, 7, 8, 9])"
      ]
     },
     "execution_count": 72,
     "metadata": {},
     "output_type": "execute_result"
    }
   ],
   "source": [
    "np.arange(10)"
   ]
  },
  {
   "cell_type": "code",
   "execution_count": 74,
   "id": "73bc0514-2ee1-4201-935e-6f5a5711bb76",
   "metadata": {},
   "outputs": [
    {
     "data": {
      "text/plain": [
       "array([4, 5, 6, 7, 8, 9])"
      ]
     },
     "execution_count": 74,
     "metadata": {},
     "output_type": "execute_result"
    }
   ],
   "source": [
    "np.arange(4, 10)"
   ]
  },
  {
   "cell_type": "code",
   "execution_count": 76,
   "id": "4cd1c25b",
   "metadata": {},
   "outputs": [
    {
     "data": {
      "text/plain": [
       "array([ 4,  7, 10, 13, 16, 19])"
      ]
     },
     "execution_count": 76,
     "metadata": {},
     "output_type": "execute_result"
    }
   ],
   "source": [
    "np.arange(4,20, 3)"
   ]
  },
  {
   "cell_type": "code",
   "execution_count": 78,
   "id": "66591eb2",
   "metadata": {},
   "outputs": [
    {
     "data": {
      "text/plain": [
       "array([20, 17, 14, 11,  8,  5,  2])"
      ]
     },
     "execution_count": 78,
     "metadata": {},
     "output_type": "execute_result"
    }
   ],
   "source": [
    "np.arange(20,1, -3)"
   ]
  },
  {
   "cell_type": "code",
   "execution_count": 80,
   "id": "a9f73e5b-8541-4a53-a459-d3721a3b564c",
   "metadata": {},
   "outputs": [
    {
     "data": {
      "text/plain": [
       "array([ 1.  ,  3.25,  5.5 ,  7.75, 10.  ])"
      ]
     },
     "execution_count": 80,
     "metadata": {},
     "output_type": "execute_result"
    }
   ],
   "source": [
    "np.linspace(1,10,5)"
   ]
  },
  {
   "cell_type": "code",
   "execution_count": 82,
   "id": "2e5c13f0-3d0d-4c27-adb7-9dc6464099c3",
   "metadata": {},
   "outputs": [],
   "source": [
    "num1 = np.array([56,12,33,14,68,99])\n",
    "num2 = np.array([28,28,19,39,38,74])"
   ]
  },
  {
   "cell_type": "code",
   "execution_count": 84,
   "id": "e8715693-721f-467e-a336-e1427969e66d",
   "metadata": {},
   "outputs": [
    {
     "data": {
      "text/plain": [
       "array([ 66,  22,  43,  24,  78, 109])"
      ]
     },
     "execution_count": 84,
     "metadata": {},
     "output_type": "execute_result"
    }
   ],
   "source": [
    "num1+10"
   ]
  },
  {
   "cell_type": "code",
   "execution_count": 86,
   "id": "4f6f3985-efc2-4980-bca2-5c84ea326d7b",
   "metadata": {},
   "outputs": [
    {
     "data": {
      "text/plain": [
       "array([ 5.6,  5.6,  3.8,  7.8,  7.6, 14.8])"
      ]
     },
     "execution_count": 86,
     "metadata": {},
     "output_type": "execute_result"
    }
   ],
   "source": [
    "num2 / 5"
   ]
  },
  {
   "cell_type": "code",
   "execution_count": 88,
   "id": "6272300f-f8dc-4be7-b42e-839c7cdb8ae4",
   "metadata": {},
   "outputs": [
    {
     "data": {
      "text/plain": [
       "array([224,  48, 132,  56, 272, 396])"
      ]
     },
     "execution_count": 88,
     "metadata": {},
     "output_type": "execute_result"
    }
   ],
   "source": [
    "num1*4"
   ]
  },
  {
   "cell_type": "code",
   "execution_count": 90,
   "id": "0ccd9ed7-fd4b-468a-9059-cb4e95900b8e",
   "metadata": {},
   "outputs": [
    {
     "data": {
      "text/plain": [
       "[56, 12, 33, 14, 68, 99, 56, 12, 33, 14, 68, 99, 56, 12, 33, 14, 68, 99]"
      ]
     },
     "execution_count": 90,
     "metadata": {},
     "output_type": "execute_result"
    }
   ],
   "source": [
    "[56,12,33,14,68,99]*3"
   ]
  },
  {
   "cell_type": "code",
   "execution_count": 92,
   "id": "b97f8a83-1857-458f-b140-4de089832510",
   "metadata": {},
   "outputs": [
    {
     "data": {
      "text/plain": [
       "array([ 84,  40,  52,  53, 106, 173])"
      ]
     },
     "execution_count": 92,
     "metadata": {},
     "output_type": "execute_result"
    }
   ],
   "source": [
    "num1+num2"
   ]
  },
  {
   "cell_type": "code",
   "execution_count": 94,
   "id": "f911ffa7-97fa-4d33-ae99-38f0deb7f386",
   "metadata": {},
   "outputs": [
    {
     "data": {
      "text/plain": [
       "array([ 28, -16,  14, -25,  30,  25])"
      ]
     },
     "execution_count": 94,
     "metadata": {},
     "output_type": "execute_result"
    }
   ],
   "source": [
    "num1 - num2"
   ]
  },
  {
   "cell_type": "markdown",
   "id": "16207f65-aaa8-4f58-b6a1-0111eb8810ee",
   "metadata": {},
   "source": [
    "## Matrix"
   ]
  },
  {
   "cell_type": "code",
   "execution_count": 97,
   "id": "663c1eae-9628-4080-9971-f232ff9ec47e",
   "metadata": {},
   "outputs": [],
   "source": [
    "M = np.array([[4,6,7],[1,2,3],[8,0,2],[9,3,5]])"
   ]
  },
  {
   "cell_type": "code",
   "execution_count": 99,
   "id": "0f48ecc2-3c5d-48b0-aa40-7e1e534263fc",
   "metadata": {},
   "outputs": [
    {
     "data": {
      "text/plain": [
       "array([[4, 6, 7],\n",
       "       [1, 2, 3],\n",
       "       [8, 0, 2],\n",
       "       [9, 3, 5]])"
      ]
     },
     "execution_count": 99,
     "metadata": {},
     "output_type": "execute_result"
    }
   ],
   "source": [
    "M"
   ]
  },
  {
   "cell_type": "code",
   "execution_count": 101,
   "id": "8b4ca7cd-4d41-438f-bcf3-770c27b8195b",
   "metadata": {},
   "outputs": [
    {
     "data": {
      "text/plain": [
       "dtype('int32')"
      ]
     },
     "execution_count": 101,
     "metadata": {},
     "output_type": "execute_result"
    }
   ],
   "source": [
    "M.dtype"
   ]
  },
  {
   "cell_type": "code",
   "execution_count": 103,
   "id": "67d7d163-4265-45e6-baf4-ec38a3c10e9f",
   "metadata": {},
   "outputs": [
    {
     "data": {
      "text/plain": [
       "(4, 3)"
      ]
     },
     "execution_count": 103,
     "metadata": {},
     "output_type": "execute_result"
    }
   ],
   "source": [
    "M.shape"
   ]
  },
  {
   "cell_type": "code",
   "execution_count": 105,
   "id": "16873817-7a14-401f-b134-f1e22be7beac",
   "metadata": {},
   "outputs": [
    {
     "data": {
      "text/plain": [
       "12"
      ]
     },
     "execution_count": 105,
     "metadata": {},
     "output_type": "execute_result"
    }
   ],
   "source": [
    "M.size"
   ]
  },
  {
   "cell_type": "code",
   "execution_count": 107,
   "id": "68deaec1-0ccf-4c59-8512-7787baa5ea03",
   "metadata": {},
   "outputs": [
    {
     "data": {
      "text/plain": [
       "2"
      ]
     },
     "execution_count": 107,
     "metadata": {},
     "output_type": "execute_result"
    }
   ],
   "source": [
    "M.ndim"
   ]
  },
  {
   "cell_type": "code",
   "execution_count": 109,
   "id": "e706fbad-8495-4161-a05f-8d3b89f9d199",
   "metadata": {},
   "outputs": [
    {
     "data": {
      "text/plain": [
       "0"
      ]
     },
     "execution_count": 109,
     "metadata": {},
     "output_type": "execute_result"
    }
   ],
   "source": [
    "M[2][1]"
   ]
  },
  {
   "cell_type": "code",
   "execution_count": 111,
   "id": "57c9115d-9632-449f-aa46-0423fc63e5ca",
   "metadata": {},
   "outputs": [
    {
     "data": {
      "text/plain": [
       "array([[4, 6, 7],\n",
       "       [1, 2, 3],\n",
       "       [8, 0, 2],\n",
       "       [9, 3, 5]])"
      ]
     },
     "execution_count": 111,
     "metadata": {},
     "output_type": "execute_result"
    }
   ],
   "source": [
    "M"
   ]
  },
  {
   "cell_type": "code",
   "execution_count": 113,
   "id": "88291474-ade7-4f39-b487-a5939e745c35",
   "metadata": {},
   "outputs": [
    {
     "data": {
      "text/plain": [
       "array([[1, 2],\n",
       "       [8, 0]])"
      ]
     },
     "execution_count": 113,
     "metadata": {},
     "output_type": "execute_result"
    }
   ],
   "source": [
    "M[1:3, 0:2]   # slicing"
   ]
  },
  {
   "cell_type": "code",
   "execution_count": 115,
   "id": "0310d6af-35d7-40cd-b0c2-2193519ec6e5",
   "metadata": {},
   "outputs": [
    {
     "ename": "AttributeError",
     "evalue": "'numpy.ndarray' object has no attribute 'resh'",
     "output_type": "error",
     "traceback": [
      "\u001b[1;31m---------------------------------------------------------------------------\u001b[0m",
      "\u001b[1;31mAttributeError\u001b[0m                            Traceback (most recent call last)",
      "Cell \u001b[1;32mIn[115], line 1\u001b[0m\n\u001b[1;32m----> 1\u001b[0m M1 \u001b[38;5;241m=\u001b[39m M\u001b[38;5;241m.\u001b[39mresh\n",
      "\u001b[1;31mAttributeError\u001b[0m: 'numpy.ndarray' object has no attribute 'resh'"
     ]
    }
   ],
   "source": [
    "M1 = M.resh"
   ]
  },
  {
   "cell_type": "code",
   "execution_count": 122,
   "id": "ba2a6181-836a-4665-a7b0-08d1b2cdda9b",
   "metadata": {},
   "outputs": [
    {
     "data": {
      "text/plain": [
       "array([[4, 6, 7, 1],\n",
       "       [2, 3, 8, 0],\n",
       "       [2, 9, 3, 5]])"
      ]
     },
     "execution_count": 122,
     "metadata": {},
     "output_type": "execute_result"
    }
   ],
   "source": [
    "M.reshape(3,4)"
   ]
  },
  {
   "cell_type": "code",
   "execution_count": 124,
   "id": "5d66c658-d965-4309-94ec-fc9161b67ec1",
   "metadata": {},
   "outputs": [
    {
     "data": {
      "text/plain": [
       "<function ndarray.reshape>"
      ]
     },
     "execution_count": 124,
     "metadata": {},
     "output_type": "execute_result"
    }
   ],
   "source": [
    "M.reshape"
   ]
  },
  {
   "cell_type": "code",
   "execution_count": 126,
   "id": "ecf97c8f-360f-4917-bba5-ae2376df4724",
   "metadata": {},
   "outputs": [
    {
     "data": {
      "text/plain": [
       "array([[4, 6],\n",
       "       [7, 1],\n",
       "       [2, 3],\n",
       "       [8, 0],\n",
       "       [2, 9],\n",
       "       [3, 5]])"
      ]
     },
     "execution_count": 126,
     "metadata": {},
     "output_type": "execute_result"
    }
   ],
   "source": [
    "M.reshape(6,2)"
   ]
  },
  {
   "cell_type": "code",
   "execution_count": 134,
   "id": "929eef9b-7b9b-4071-97df-5ba6c392ddb1",
   "metadata": {},
   "outputs": [
    {
     "data": {
      "text/plain": [
       "array([[4, 6, 7],\n",
       "       [7, 8, 3],\n",
       "       [1, 1, 2],\n",
       "       [9, 3, 5]])"
      ]
     },
     "execution_count": 134,
     "metadata": {},
     "output_type": "execute_result"
    }
   ],
   "source": [
    "M[1:3, 0:2] = np.array([[7,8],[1,1]])\n",
    "M"
   ]
  },
  {
   "cell_type": "code",
   "execution_count": 132,
   "id": "62c6ccaa-c5bc-4d0f-ad82-b46fffc28697",
   "metadata": {},
   "outputs": [
    {
     "data": {
      "text/plain": [
       "array([[4, 6, 7, 7, 8, 3],\n",
       "       [1, 1, 2, 9, 3, 5]])"
      ]
     },
     "execution_count": 132,
     "metadata": {},
     "output_type": "execute_result"
    }
   ],
   "source": [
    "M.reshape(2,-1)"
   ]
  },
  {
   "cell_type": "code",
   "execution_count": 136,
   "id": "49376a38-b8e7-48ef-b1a1-c9ba81b77b0c",
   "metadata": {},
   "outputs": [
    {
     "data": {
      "text/plain": [
       "array([[4, 6, 7, 7],\n",
       "       [8, 3, 1, 1],\n",
       "       [2, 9, 3, 5]])"
      ]
     },
     "execution_count": 136,
     "metadata": {},
     "output_type": "execute_result"
    }
   ],
   "source": [
    "M.reshape(-1,4)"
   ]
  },
  {
   "cell_type": "code",
   "execution_count": 140,
   "id": "c12bdaee-29d9-41d0-9e87-b2d221e98d38",
   "metadata": {},
   "outputs": [
    {
     "data": {
      "text/plain": [
       "array([4, 6, 7, 7, 8, 3, 1, 1, 2, 9, 3, 5])"
      ]
     },
     "execution_count": 140,
     "metadata": {},
     "output_type": "execute_result"
    }
   ],
   "source": [
    "M.reshape(-1)"
   ]
  },
  {
   "cell_type": "code",
   "execution_count": 142,
   "id": "f74867d5-2224-4faf-95bb-c47a5c5346dd",
   "metadata": {},
   "outputs": [
    {
     "data": {
      "text/plain": [
       "array([4, 6, 7, 7, 8, 3, 1, 1, 2, 9, 3, 5])"
      ]
     },
     "execution_count": 142,
     "metadata": {},
     "output_type": "execute_result"
    }
   ],
   "source": [
    "M.flatten()"
   ]
  },
  {
   "cell_type": "code",
   "execution_count": 144,
   "id": "33956ef8-8f87-49f5-bec6-d097ab9cba40",
   "metadata": {},
   "outputs": [
    {
     "data": {
      "text/plain": [
       "array([[4, 7, 1, 9],\n",
       "       [6, 8, 1, 3],\n",
       "       [7, 3, 2, 5]])"
      ]
     },
     "execution_count": 144,
     "metadata": {},
     "output_type": "execute_result"
    }
   ],
   "source": [
    "M.T"
   ]
  },
  {
   "cell_type": "code",
   "execution_count": 146,
   "id": "16cc3e78-1fc4-41ad-a45b-277d3d18d4d8",
   "metadata": {},
   "outputs": [
    {
     "data": {
      "text/plain": [
       "1"
      ]
     },
     "execution_count": 146,
     "metadata": {},
     "output_type": "execute_result"
    }
   ],
   "source": [
    "M.min()"
   ]
  },
  {
   "cell_type": "code",
   "execution_count": 154,
   "id": "c6c81f99-3a6a-4eb4-b30c-ddf44cccd33d",
   "metadata": {},
   "outputs": [
    {
     "data": {
      "text/plain": [
       "array([4, 3, 1, 3])"
      ]
     },
     "execution_count": 154,
     "metadata": {},
     "output_type": "execute_result"
    }
   ],
   "source": [
    "M.min(axis = 1) #contain the min value from each row of matrix M"
   ]
  },
  {
   "cell_type": "code",
   "execution_count": 156,
   "id": "fca8bdfb-b99a-41c2-9d4d-f2454313008a",
   "metadata": {},
   "outputs": [
    {
     "data": {
      "text/plain": [
       "array([1, 1, 2])"
      ]
     },
     "execution_count": 156,
     "metadata": {},
     "output_type": "execute_result"
    }
   ],
   "source": [
    "M.min(axis = 0) #When axis=0 is used, the function operates column-wise."
   ]
  },
  {
   "cell_type": "code",
   "execution_count": 160,
   "id": "f1a50391-9419-470b-a8eb-4b718d153f72",
   "metadata": {},
   "outputs": [
    {
     "data": {
      "text/plain": [
       "array([17, 18,  4, 17])"
      ]
     },
     "execution_count": 160,
     "metadata": {},
     "output_type": "execute_result"
    }
   ],
   "source": [
    "M.sum(axis =1)"
   ]
  },
  {
   "cell_type": "code",
   "execution_count": 164,
   "id": "2bed7407-2aa5-4f5b-bd25-a7ef36af9d58",
   "metadata": {},
   "outputs": [
    {
     "data": {
      "text/plain": [
       "array([21, 18, 17])"
      ]
     },
     "execution_count": 164,
     "metadata": {},
     "output_type": "execute_result"
    }
   ],
   "source": [
    "M.sum(axis = 0)"
   ]
  },
  {
   "cell_type": "code",
   "execution_count": 166,
   "id": "af9d54e1-7a42-4229-8016-e9ce06936efc",
   "metadata": {},
   "outputs": [
    {
     "data": {
      "text/plain": [
       "array([67.  , 89.  , 45.34, 69.  , 11.  , 35.  ])"
      ]
     },
     "execution_count": 166,
     "metadata": {},
     "output_type": "execute_result"
    }
   ],
   "source": [
    "y"
   ]
  },
  {
   "cell_type": "code",
   "execution_count": 168,
   "id": "4027e11e-60b8-4716-bf33-8dd92dd2659c",
   "metadata": {},
   "outputs": [
    {
     "data": {
      "text/plain": [
       "array([[67.  , 89.  ],\n",
       "       [45.34, 69.  ],\n",
       "       [11.  , 35.  ]])"
      ]
     },
     "execution_count": 168,
     "metadata": {},
     "output_type": "execute_result"
    }
   ],
   "source": [
    "y.reshape(3,2)"
   ]
  },
  {
   "cell_type": "code",
   "execution_count": 170,
   "id": "0b83fb1d-7a8f-4faf-8aae-5e739f2033db",
   "metadata": {},
   "outputs": [
    {
     "data": {
      "text/plain": [
       "9"
      ]
     },
     "execution_count": 170,
     "metadata": {},
     "output_type": "execute_result"
    }
   ],
   "source": [
    "M.argmax()"
   ]
  },
  {
   "cell_type": "code",
   "execution_count": 172,
   "id": "f31dcf0d-69d0-4009-aaac-ad331c13872e",
   "metadata": {},
   "outputs": [
    {
     "data": {
      "text/plain": [
       "array([[4, 6, 7],\n",
       "       [7, 8, 3],\n",
       "       [1, 1, 2],\n",
       "       [9, 3, 5]])"
      ]
     },
     "execution_count": 172,
     "metadata": {},
     "output_type": "execute_result"
    }
   ],
   "source": [
    "M"
   ]
  },
  {
   "cell_type": "code",
   "execution_count": 178,
   "id": "074c9a7d-a23f-41b6-9090-e2dd7a2cd7ec",
   "metadata": {},
   "outputs": [
    {
     "data": {
      "text/plain": [
       "array([[4., 6., 7.],\n",
       "       [7., 8., 3.],\n",
       "       [1., 1., 2.],\n",
       "       [9., 3., 5.]], dtype=float16)"
      ]
     },
     "execution_count": 178,
     "metadata": {},
     "output_type": "execute_result"
    }
   ],
   "source": [
    "M = M.astype(np.float16)\n",
    "M"
   ]
  },
  {
   "cell_type": "code",
   "execution_count": 180,
   "id": "94a95bc9-01a5-46cb-8952-f1c185a55acb",
   "metadata": {},
   "outputs": [
    {
     "data": {
      "text/plain": [
       "array([78, 12, 99, 48, 71, 11, 28], dtype=int8)"
      ]
     },
     "execution_count": 180,
     "metadata": {},
     "output_type": "execute_result"
    }
   ],
   "source": [
    "x"
   ]
  },
  {
   "cell_type": "code",
   "execution_count": 182,
   "id": "37725569-8218-476b-b274-5a230230e7b5",
   "metadata": {},
   "outputs": [],
   "source": [
    "y = x"
   ]
  },
  {
   "cell_type": "code",
   "execution_count": 184,
   "id": "9b439bef-3660-44f6-9146-cd293f5850ef",
   "metadata": {},
   "outputs": [
    {
     "data": {
      "text/plain": [
       "array([78, 12, 99, 48, 71, 11, 28], dtype=int8)"
      ]
     },
     "execution_count": 184,
     "metadata": {},
     "output_type": "execute_result"
    }
   ],
   "source": [
    "x"
   ]
  },
  {
   "cell_type": "code",
   "execution_count": 186,
   "id": "4830098c-4138-4779-8d66-9fcfe05c7267",
   "metadata": {},
   "outputs": [
    {
     "data": {
      "text/plain": [
       "array([78, 12, 99, 48, 71, 11, 28], dtype=int8)"
      ]
     },
     "execution_count": 186,
     "metadata": {},
     "output_type": "execute_result"
    }
   ],
   "source": [
    "y"
   ]
  },
  {
   "cell_type": "code",
   "execution_count": 188,
   "id": "900197fe-2996-4f29-9b62-924006c4ba7c",
   "metadata": {},
   "outputs": [],
   "source": [
    "y[0]=21"
   ]
  },
  {
   "cell_type": "code",
   "execution_count": 190,
   "id": "e503defa-e727-44b8-8c97-8eb5ef9ccd5a",
   "metadata": {},
   "outputs": [
    {
     "data": {
      "text/plain": [
       "array([21, 12, 99, 48, 71, 11, 28], dtype=int8)"
      ]
     },
     "execution_count": 190,
     "metadata": {},
     "output_type": "execute_result"
    }
   ],
   "source": [
    "y"
   ]
  },
  {
   "cell_type": "code",
   "execution_count": 192,
   "id": "ec93df61-26bf-4b5a-b05a-84cc1be2c8ad",
   "metadata": {},
   "outputs": [],
   "source": [
    "y[0]=20"
   ]
  },
  {
   "cell_type": "code",
   "execution_count": 194,
   "id": "33713973-ebc6-44ea-a8db-b040d64d7c1d",
   "metadata": {},
   "outputs": [
    {
     "data": {
      "text/plain": [
       "array([20, 12, 99, 48, 71, 11, 28], dtype=int8)"
      ]
     },
     "execution_count": 194,
     "metadata": {},
     "output_type": "execute_result"
    }
   ],
   "source": [
    "y"
   ]
  },
  {
   "cell_type": "code",
   "execution_count": 196,
   "id": "182872fe-1242-4f35-a754-82c9db67a6ea",
   "metadata": {},
   "outputs": [
    {
     "data": {
      "text/plain": [
       "2137287303952"
      ]
     },
     "execution_count": 196,
     "metadata": {},
     "output_type": "execute_result"
    }
   ],
   "source": [
    "id(x)"
   ]
  },
  {
   "cell_type": "code",
   "execution_count": 198,
   "id": "4655c449-a5e8-401c-82a4-b721c33322c3",
   "metadata": {},
   "outputs": [
    {
     "data": {
      "text/plain": [
       "array([20, 12, 99, 48, 71, 11, 28], dtype=int8)"
      ]
     },
     "execution_count": 198,
     "metadata": {},
     "output_type": "execute_result"
    }
   ],
   "source": [
    "y = x.copy()\n",
    "y"
   ]
  },
  {
   "cell_type": "code",
   "execution_count": 200,
   "id": "c7e7cc1d-772c-46d4-8016-3d78f2fd6d06",
   "metadata": {},
   "outputs": [
    {
     "data": {
      "text/plain": [
       "2137287303952"
      ]
     },
     "execution_count": 200,
     "metadata": {},
     "output_type": "execute_result"
    }
   ],
   "source": [
    "id(x)"
   ]
  },
  {
   "cell_type": "code",
   "execution_count": 202,
   "id": "845602f6-cd1a-4aca-9008-c5c7a975286e",
   "metadata": {},
   "outputs": [
    {
     "data": {
      "text/plain": [
       "2137318340432"
      ]
     },
     "execution_count": 202,
     "metadata": {},
     "output_type": "execute_result"
    }
   ],
   "source": [
    "id(y)"
   ]
  },
  {
   "cell_type": "code",
   "execution_count": null,
   "id": "7fb155d8-f17e-47e9-a076-a76170b6e79f",
   "metadata": {},
   "outputs": [],
   "source": []
  }
 ],
 "metadata": {
  "kernelspec": {
   "display_name": "Python 3 (ipykernel)",
   "language": "python",
   "name": "python3"
  },
  "language_info": {
   "codemirror_mode": {
    "name": "ipython",
    "version": 3
   },
   "file_extension": ".py",
   "mimetype": "text/x-python",
   "name": "python",
   "nbconvert_exporter": "python",
   "pygments_lexer": "ipython3",
   "version": "3.12.4"
  }
 },
 "nbformat": 4,
 "nbformat_minor": 5
}
