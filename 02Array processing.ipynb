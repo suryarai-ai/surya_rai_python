{
 "cells": [
  {
   "cell_type": "code",
   "execution_count": 1,
   "id": "0d6cf76e-3a46-47c8-a271-710c0ca487fd",
   "metadata": {},
   "outputs": [],
   "source": [
    "import numpy as np\n"
   ]
  },
  {
   "cell_type": "markdown",
   "id": "34f4ac9c-4a8b-4f96-98f5-db2736bac984",
   "metadata": {},
   "source": [
    "##### Creat the array"
   ]
  },
  {
   "cell_type": "code",
   "execution_count": 2,
   "id": "af607847-a07b-4da5-a4de-7a0f062f40c4",
   "metadata": {},
   "outputs": [],
   "source": [
    "x = np.array([56,12,35,48,71,11,28])"
   ]
  },
  {
   "cell_type": "code",
   "execution_count": 3,
   "id": "8ded8db2-7a4b-4997-a66f-8166b550d46c",
   "metadata": {},
   "outputs": [
    {
     "name": "stdout",
     "output_type": "stream",
     "text": [
      "[56 12 35 48 71 11 28]\n"
     ]
    }
   ],
   "source": [
    "print(x)"
   ]
  },
  {
   "cell_type": "code",
   "execution_count": 4,
   "id": "84cd32da-4f30-4508-a74c-71cce2e467d4",
   "metadata": {},
   "outputs": [
    {
     "data": {
      "text/plain": [
       "numpy.ndarray"
      ]
     },
     "execution_count": 4,
     "metadata": {},
     "output_type": "execute_result"
    }
   ],
   "source": [
    "type(x)"
   ]
  },
  {
   "cell_type": "code",
   "execution_count": 5,
   "id": "fa0291f3-ce18-4fdf-9d7c-e6be2a216ff2",
   "metadata": {},
   "outputs": [
    {
     "data": {
      "text/plain": [
       "1"
      ]
     },
     "execution_count": 5,
     "metadata": {},
     "output_type": "execute_result"
    }
   ],
   "source": [
    "x.ndim"
   ]
  },
  {
   "cell_type": "code",
   "execution_count": 6,
   "id": "7ef453ed-49a0-4191-b226-fa584abdce29",
   "metadata": {},
   "outputs": [
    {
     "data": {
      "text/plain": [
       "array([56, 12, 35, 48, 71, 11, 28])"
      ]
     },
     "execution_count": 6,
     "metadata": {},
     "output_type": "execute_result"
    }
   ],
   "source": [
    "x"
   ]
  },
  {
   "cell_type": "code",
   "execution_count": 7,
   "id": "d08391a2-896b-462d-8b3d-188670a9350a",
   "metadata": {},
   "outputs": [
    {
     "data": {
      "text/plain": [
       "dtype('int32')"
      ]
     },
     "execution_count": 7,
     "metadata": {},
     "output_type": "execute_result"
    }
   ],
   "source": [
    "x.dtype"
   ]
  },
  {
   "cell_type": "code",
   "execution_count": 11,
   "id": "ae7d9e5d-4d68-4ce1-bd2c-592229c0362c",
   "metadata": {},
   "outputs": [],
   "source": [
    "a= 2324324359845409583000000000000000000000000000000000004444444444444444444444444444444444444444433333333333333333333333333333333333"
   ]
  },
  {
   "cell_type": "code",
   "execution_count": 12,
   "id": "d5dffcfd-a3b4-4303-91da-7425fddb0c6b",
   "metadata": {},
   "outputs": [
    {
     "data": {
      "text/plain": [
       "2324324359845409583000000000000000000000000000000000004444444444444444444444444444444444444444433333333333333333333333333333333333"
      ]
     },
     "execution_count": 12,
     "metadata": {},
     "output_type": "execute_result"
    }
   ],
   "source": [
    "a"
   ]
  },
  {
   "cell_type": "code",
   "execution_count": null,
   "id": "6025dd49-633a-4ad5-9825-444a735fe88f",
   "metadata": {},
   "outputs": [],
   "source": [
    "x=np.array"
   ]
  },
  {
   "cell_type": "code",
   "execution_count": 13,
   "id": "9492e7ab-a58c-40df-a6fc-53079b801234",
   "metadata": {},
   "outputs": [],
   "source": [
    "y=np.array([67,89,45,34,69,11,35])"
   ]
  },
  {
   "cell_type": "code",
   "execution_count": 15,
   "id": "26d0ec37-72c8-4d60-9da9-bb098f1bf342",
   "metadata": {},
   "outputs": [],
   "source": [
    "y=np.array([67,89,45,34.68,69,11,35])"
   ]
  },
  {
   "cell_type": "code",
   "execution_count": 22,
   "id": "f2c5734d-e2ed-4bfd-ab01-12e772070d6a",
   "metadata": {},
   "outputs": [],
   "source": [
    "y=np.array([67,89,45,34.68,69,11,35,'ram'])"
   ]
  },
  {
   "cell_type": "code",
   "execution_count": 24,
   "id": "d600a5f3-8348-426c-ace5-1726398c0043",
   "metadata": {},
   "outputs": [
    {
     "data": {
      "text/plain": [
       "array(['67', '89', '45', '34.68', '69', '11', '35', 'ram'], dtype='<U32')"
      ]
     },
     "execution_count": 24,
     "metadata": {},
     "output_type": "execute_result"
    }
   ],
   "source": [
    "y"
   ]
  },
  {
   "cell_type": "code",
   "execution_count": 14,
   "id": "b00bb373-888a-4061-a10d-78f9cf682e9a",
   "metadata": {},
   "outputs": [
    {
     "data": {
      "text/plain": [
       "array([67, 89, 45, 34, 69, 11, 35])"
      ]
     },
     "execution_count": 14,
     "metadata": {},
     "output_type": "execute_result"
    }
   ],
   "source": [
    "y"
   ]
  },
  {
   "cell_type": "code",
   "execution_count": 16,
   "id": "0e5337b6-8626-4ac6-9555-3ec8871f4931",
   "metadata": {},
   "outputs": [
    {
     "data": {
      "text/plain": [
       "array([67.  , 89.  , 45.  , 34.68, 69.  , 11.  , 35.  ])"
      ]
     },
     "execution_count": 16,
     "metadata": {},
     "output_type": "execute_result"
    }
   ],
   "source": [
    "y"
   ]
  },
  {
   "cell_type": "code",
   "execution_count": 17,
   "id": "8d4a9d4a-e581-48fa-aa71-7fffa4fad136",
   "metadata": {},
   "outputs": [
    {
     "data": {
      "text/plain": [
       "numpy.ndarray"
      ]
     },
     "execution_count": 17,
     "metadata": {},
     "output_type": "execute_result"
    }
   ],
   "source": [
    "type(y)"
   ]
  },
  {
   "cell_type": "code",
   "execution_count": 18,
   "id": "8617a4f2-2df9-49ff-b64c-fd8df780ed58",
   "metadata": {},
   "outputs": [
    {
     "data": {
      "text/plain": [
       "dtype('float64')"
      ]
     },
     "execution_count": 18,
     "metadata": {},
     "output_type": "execute_result"
    }
   ],
   "source": [
    "y.dtype"
   ]
  },
  {
   "cell_type": "code",
   "execution_count": 19,
   "id": "27b44475-be6e-4163-88dd-03b5e78971ca",
   "metadata": {},
   "outputs": [],
   "source": [
    "z= np.array([67,89,45,34.68,69,11,True])"
   ]
  },
  {
   "cell_type": "code",
   "execution_count": 20,
   "id": "03c9b3e7-0a22-4381-8941-c0711251c873",
   "metadata": {},
   "outputs": [
    {
     "data": {
      "text/plain": [
       "array([67.  , 89.  , 45.  , 34.68, 69.  , 11.  ,  1.  ])"
      ]
     },
     "execution_count": 20,
     "metadata": {},
     "output_type": "execute_result"
    }
   ],
   "source": [
    "z"
   ]
  },
  {
   "cell_type": "code",
   "execution_count": null,
   "id": "3966408c-30fe-4f7a-a22b-878afcdef3f4",
   "metadata": {},
   "outputs": [],
   "source": [
    "array"
   ]
  },
  {
   "cell_type": "code",
   "execution_count": null,
   "id": "36b8d654-4e23-40f1-a11f-6df154dadd4e",
   "metadata": {},
   "outputs": [],
   "source": [
    "array([0,0,0,0,0,0,0,0])"
   ]
  },
  {
   "cell_type": "code",
   "execution_count": 25,
   "id": "71e6c832-8aef-42af-ac6e-67dbb7610570",
   "metadata": {},
   "outputs": [
    {
     "data": {
      "text/plain": [
       "array([0.  , 0.33, 0.66, 0.99, 1.32, 1.65, 1.98, 2.31, 2.64, 2.97, 3.3 ,\n",
       "       3.63, 3.96, 4.29, 4.62, 4.95, 5.28, 5.61, 5.94, 6.27, 6.6 , 6.93,\n",
       "       7.26, 7.59, 7.92, 8.25, 8.58, 8.91, 9.24, 9.57, 9.9 ])"
      ]
     },
     "execution_count": 25,
     "metadata": {},
     "output_type": "execute_result"
    }
   ],
   "source": [
    "np.arange(0,10,0.33)"
   ]
  },
  {
   "cell_type": "code",
   "execution_count": 26,
   "id": "1bbe2559-66d6-4aff-b814-8f9ef91734ae",
   "metadata": {},
   "outputs": [
    {
     "data": {
      "text/plain": [
       "array([ 2,  5,  8, 11, 14, 17])"
      ]
     },
     "execution_count": 26,
     "metadata": {},
     "output_type": "execute_result"
    }
   ],
   "source": [
    "np.arange(2,20,3)"
   ]
  },
  {
   "cell_type": "markdown",
   "id": "6143f23a-ee1b-4d0a-a48a-46d66962a8a0",
   "metadata": {},
   "source": [
    "##### array operatio"
   ]
  },
  {
   "cell_type": "code",
   "execution_count": 35,
   "id": "8853036a-df33-4d30-a148-59b51ab28a5a",
   "metadata": {},
   "outputs": [],
   "source": [
    "num1=np.array([56, 12, 35, 48, 71, 11, 28])\n",
    "num2= np.array([28,28, 19, 39, 38, 74, 20])"
   ]
  },
  {
   "cell_type": "code",
   "execution_count": 28,
   "id": "b3956fd6-b21e-49ac-a511-46b8b3a34c82",
   "metadata": {},
   "outputs": [
    {
     "data": {
      "text/plain": [
       "array([66, 22, 45, 58, 81, 21, 38])"
      ]
     },
     "execution_count": 28,
     "metadata": {},
     "output_type": "execute_result"
    }
   ],
   "source": [
    "num1+10"
   ]
  },
  {
   "cell_type": "code",
   "execution_count": 36,
   "id": "d377ba16-1668-4e5d-b7d6-317cdc57880b",
   "metadata": {},
   "outputs": [
    {
     "data": {
      "text/plain": [
       "array([ 84,  40,  54,  87, 109,  85,  48])"
      ]
     },
     "execution_count": 36,
     "metadata": {},
     "output_type": "execute_result"
    }
   ],
   "source": [
    "num1+num2"
   ]
  },
  {
   "cell_type": "code",
   "execution_count": 37,
   "id": "671291cc-9d60-43f4-b0e9-89f66b2a861b",
   "metadata": {},
   "outputs": [
    {
     "data": {
      "text/plain": [
       "array([ 28, -16,  16,   9,  33, -63,   8])"
      ]
     },
     "execution_count": 37,
     "metadata": {},
     "output_type": "execute_result"
    }
   ],
   "source": [
    "num1-num2"
   ]
  },
  {
   "cell_type": "code",
   "execution_count": 29,
   "id": "dfad32be-d615-4019-8b5f-2e5cc164ce8d",
   "metadata": {},
   "outputs": [
    {
     "data": {
      "text/plain": [
       "array([5.6, 1.2, 3.5, 4.8, 7.1, 1.1, 2.8])"
      ]
     },
     "execution_count": 29,
     "metadata": {},
     "output_type": "execute_result"
    }
   ],
   "source": [
    "num1/10"
   ]
  },
  {
   "cell_type": "code",
   "execution_count": 30,
   "id": "0cbcd3c4-45fa-42d3-9f28-8b9b860cc6bd",
   "metadata": {},
   "outputs": [
    {
     "data": {
      "text/plain": [
       "array([280,  60, 175, 240, 355,  55, 140])"
      ]
     },
     "execution_count": 30,
     "metadata": {},
     "output_type": "execute_result"
    }
   ],
   "source": [
    "num1*5"
   ]
  },
  {
   "cell_type": "code",
   "execution_count": 30,
   "id": "c65471e7-a3b9-43bc-a814-243b31e304b9",
   "metadata": {},
   "outputs": [
    {
     "data": {
      "text/plain": [
       "array([280,  60, 175, 240, 355,  55, 140])"
      ]
     },
     "execution_count": 30,
     "metadata": {},
     "output_type": "execute_result"
    }
   ],
   "source": [
    "num1*5"
   ]
  },
  {
   "cell_type": "code",
   "execution_count": 31,
   "id": "faf3d8fa-b444-4f5d-b1e1-9683523a2551",
   "metadata": {},
   "outputs": [
    {
     "data": {
      "text/plain": [
       "[56,\n",
       " 12,\n",
       " 35,\n",
       " 48,\n",
       " 71,\n",
       " 11,\n",
       " 28,\n",
       " 56,\n",
       " 12,\n",
       " 35,\n",
       " 48,\n",
       " 71,\n",
       " 11,\n",
       " 28,\n",
       " 56,\n",
       " 12,\n",
       " 35,\n",
       " 48,\n",
       " 71,\n",
       " 11,\n",
       " 28]"
      ]
     },
     "execution_count": 31,
     "metadata": {},
     "output_type": "execute_result"
    }
   ],
   "source": [
    "[56, 12, 35, 48, 71, 11, 28]*3"
   ]
  },
  {
   "cell_type": "markdown",
   "id": "977b3244-658f-46fc-9e31-8285fd7e6c01",
   "metadata": {},
   "source": [
    "##### Matrix"
   ]
  },
  {
   "cell_type": "code",
   "execution_count": 39,
   "id": "1425b871-a992-49c0-86a6-4d68b61266ba",
   "metadata": {},
   "outputs": [],
   "source": [
    "M = np.array([[4,6,7], [1,2,3],[8,0,3],[9,3,5]])"
   ]
  },
  {
   "cell_type": "code",
   "execution_count": 41,
   "id": "4d1e12b3-dbe6-45b1-a157-8f7cd61b6ed4",
   "metadata": {},
   "outputs": [
    {
     "data": {
      "text/plain": [
       "array([[4, 6, 7],\n",
       "       [1, 2, 3],\n",
       "       [8, 0, 3],\n",
       "       [9, 3, 5]])"
      ]
     },
     "execution_count": 41,
     "metadata": {},
     "output_type": "execute_result"
    }
   ],
   "source": [
    "M\n"
   ]
  },
  {
   "cell_type": "code",
   "execution_count": 42,
   "id": "96338e30-b7ac-47f1-987d-00cdd02ec807",
   "metadata": {},
   "outputs": [
    {
     "data": {
      "text/plain": [
       "dtype('int32')"
      ]
     },
     "execution_count": 42,
     "metadata": {},
     "output_type": "execute_result"
    }
   ],
   "source": [
    "M.dtype"
   ]
  },
  {
   "cell_type": "code",
   "execution_count": 44,
   "id": "f4dd1b83-b11b-40ba-aa95-5a2d38bc8b89",
   "metadata": {},
   "outputs": [
    {
     "data": {
      "text/plain": [
       "12"
      ]
     },
     "execution_count": 44,
     "metadata": {},
     "output_type": "execute_result"
    }
   ],
   "source": [
    "M.size"
   ]
  },
  {
   "cell_type": "code",
   "execution_count": 43,
   "id": "ca471e1e-e39f-4ae4-8454-7e75505f1979",
   "metadata": {},
   "outputs": [
    {
     "data": {
      "text/plain": [
       "(4, 3)"
      ]
     },
     "execution_count": 43,
     "metadata": {},
     "output_type": "execute_result"
    }
   ],
   "source": [
    "    M.shape"
   ]
  },
  {
   "cell_type": "code",
   "execution_count": 45,
   "id": "77cfc535-ffaf-4252-a66c-0364271f7289",
   "metadata": {},
   "outputs": [
    {
     "data": {
      "text/plain": [
       "2"
      ]
     },
     "execution_count": 45,
     "metadata": {},
     "output_type": "execute_result"
    }
   ],
   "source": [
    "    M.ndim"
   ]
  },
  {
   "cell_type": "code",
   "execution_count": 46,
   "id": "296f6b5a-88e6-4d5e-bd79-63306289ed0e",
   "metadata": {},
   "outputs": [
    {
     "data": {
      "text/plain": [
       "0"
      ]
     },
     "execution_count": 46,
     "metadata": {},
     "output_type": "execute_result"
    }
   ],
   "source": [
    "M[2,1]"
   ]
  },
  {
   "cell_type": "code",
   "execution_count": 47,
   "id": "e6f31a56-eb9d-4291-ab71-23ce738c5157",
   "metadata": {},
   "outputs": [
    {
     "data": {
      "text/plain": [
       "array([[4, 1, 8, 9],\n",
       "       [6, 2, 0, 3],\n",
       "       [7, 3, 3, 5]])"
      ]
     },
     "execution_count": 47,
     "metadata": {},
     "output_type": "execute_result"
    }
   ],
   "source": [
    "M.T"
   ]
  },
  {
   "cell_type": "code",
   "execution_count": 48,
   "id": "375c0a84-ba61-4a54-be87-b5e407efbb05",
   "metadata": {},
   "outputs": [
    {
     "data": {
      "text/plain": [
       "array([[4, 6, 7, 1],\n",
       "       [2, 3, 8, 0],\n",
       "       [3, 9, 3, 5]])"
      ]
     },
     "execution_count": 48,
     "metadata": {},
     "output_type": "execute_result"
    }
   ],
   "source": [
    "M.reshape(-1,4)"
   ]
  },
  {
   "cell_type": "code",
   "execution_count": 49,
   "id": "293f469b-7adf-4f7a-bb6c-3cc955552948",
   "metadata": {},
   "outputs": [
    {
     "data": {
      "text/plain": [
       "0"
      ]
     },
     "execution_count": 49,
     "metadata": {},
     "output_type": "execute_result"
    }
   ],
   "source": [
    "M.min()"
   ]
  },
  {
   "cell_type": "code",
   "execution_count": 50,
   "id": "0f920809-d34a-4588-8c12-174704b4301f",
   "metadata": {},
   "outputs": [
    {
     "data": {
      "text/plain": [
       "array([4, 1, 0, 3])"
      ]
     },
     "execution_count": 50,
     "metadata": {},
     "output_type": "execute_result"
    }
   ],
   "source": [
    "M.min(axis=1)"
   ]
  },
  {
   "cell_type": "code",
   "execution_count": 51,
   "id": "dcafc9ff-8657-435e-9ccd-89e5c75d7110",
   "metadata": {},
   "outputs": [
    {
     "data": {
      "text/plain": [
       "array([1, 0, 3])"
      ]
     },
     "execution_count": 51,
     "metadata": {},
     "output_type": "execute_result"
    }
   ],
   "source": [
    "M.min(axis=0)"
   ]
  },
  {
   "cell_type": "code",
   "execution_count": 52,
   "id": "f1a7258f-50e6-4abd-b9f3-74e38e300e31",
   "metadata": {},
   "outputs": [
    {
     "data": {
      "text/plain": [
       "dtype('int32')"
      ]
     },
     "execution_count": 52,
     "metadata": {},
     "output_type": "execute_result"
    }
   ],
   "source": [
    "M.dtype"
   ]
  },
  {
   "cell_type": "code",
   "execution_count": 53,
   "id": "57e2c50a-d745-4e83-8c7d-c2754aaa1120",
   "metadata": {},
   "outputs": [],
   "source": [
    "M=M.astype(np.int64)"
   ]
  },
  {
   "cell_type": "code",
   "execution_count": 53,
   "id": "0ee4423b-3e16-48f6-a387-fddc6a861f54",
   "metadata": {},
   "outputs": [],
   "source": [
    "M=M.astype(np.int64)"
   ]
  },
  {
   "cell_type": "code",
   "execution_count": 54,
   "id": "d1ee6c92-30ee-4ab6-80e9-c695183ce34f",
   "metadata": {},
   "outputs": [
    {
     "data": {
      "text/plain": [
       "array([[4, 6, 7],\n",
       "       [1, 2, 3],\n",
       "       [8, 0, 3],\n",
       "       [9, 3, 5]], dtype=int64)"
      ]
     },
     "execution_count": 54,
     "metadata": {},
     "output_type": "execute_result"
    }
   ],
   "source": [
    "M"
   ]
  },
  {
   "cell_type": "code",
   "execution_count": 57,
   "id": "0cef6125-4f53-4432-a02b-8f0faa61f068",
   "metadata": {},
   "outputs": [],
   "source": [
    "x= np.array([11,12,28,35,48,71,145])"
   ]
  },
  {
   "cell_type": "code",
   "execution_count": 58,
   "id": "82cc37c7-c99d-4c8d-bfc4-14f443b70adc",
   "metadata": {},
   "outputs": [],
   "source": [
    "y=x"
   ]
  },
  {
   "cell_type": "code",
   "execution_count": 59,
   "id": "0e30d6a9-6db0-4ffa-8dfa-46af6c5914ab",
   "metadata": {},
   "outputs": [
    {
     "data": {
      "text/plain": [
       "array([ 11,  12,  28,  35,  48,  71, 145])"
      ]
     },
     "execution_count": 59,
     "metadata": {},
     "output_type": "execute_result"
    }
   ],
   "source": [
    "y"
   ]
  },
  {
   "cell_type": "code",
   "execution_count": 60,
   "id": "6eeb8c9d-4799-4a86-94ec-9ac6249228b2",
   "metadata": {},
   "outputs": [],
   "source": [
    "y[0]=20"
   ]
  },
  {
   "cell_type": "code",
   "execution_count": 61,
   "id": "a0f1d051-28ec-4401-ae5a-f96c8d735038",
   "metadata": {},
   "outputs": [
    {
     "data": {
      "text/plain": [
       "array([ 20,  12,  28,  35,  48,  71, 145])"
      ]
     },
     "execution_count": 61,
     "metadata": {},
     "output_type": "execute_result"
    }
   ],
   "source": [
    "x"
   ]
  },
  {
   "cell_type": "code",
   "execution_count": 62,
   "id": "43d9ac4c-e3dd-40fd-ab6c-89e08f0e5f59",
   "metadata": {},
   "outputs": [
    {
     "data": {
      "text/plain": [
       "1716892283888"
      ]
     },
     "execution_count": 62,
     "metadata": {},
     "output_type": "execute_result"
    }
   ],
   "source": [
    "id(x)"
   ]
  },
  {
   "cell_type": "code",
   "execution_count": 63,
   "id": "ce907a8f-58a0-428f-a352-4b8b7133f2b9",
   "metadata": {},
   "outputs": [
    {
     "data": {
      "text/plain": [
       "1716892283888"
      ]
     },
     "execution_count": 63,
     "metadata": {},
     "output_type": "execute_result"
    }
   ],
   "source": [
    "id(y)"
   ]
  },
  {
   "cell_type": "code",
   "execution_count": 64,
   "id": "a901fb8c-21a6-4815-bee1-1a2ea5639d34",
   "metadata": {},
   "outputs": [
    {
     "data": {
      "text/plain": [
       "array([ 20,  12,  28,  35,  48,  71, 145])"
      ]
     },
     "execution_count": 64,
     "metadata": {},
     "output_type": "execute_result"
    }
   ],
   "source": [
    "y=x.copy()\n",
    "y"
   ]
  },
  {
   "cell_type": "code",
   "execution_count": 65,
   "id": "71aa8284-c392-43e1-bcd6-fa30d1e57a43",
   "metadata": {},
   "outputs": [
    {
     "data": {
      "text/plain": [
       "array([ 20,  12,  28,  35,  48,  71, 145])"
      ]
     },
     "execution_count": 65,
     "metadata": {},
     "output_type": "execute_result"
    }
   ],
   "source": [
    "x"
   ]
  },
  {
   "cell_type": "code",
   "execution_count": 66,
   "id": "8847df5e-f793-488d-a8a6-f5d978d68a15",
   "metadata": {},
   "outputs": [
    {
     "data": {
      "text/plain": [
       "array([ 20,  12,  28,  35,  48,  71, 145])"
      ]
     },
     "execution_count": 66,
     "metadata": {},
     "output_type": "execute_result"
    }
   ],
   "source": [
    "y"
   ]
  },
  {
   "cell_type": "code",
   "execution_count": 67,
   "id": "e1c1a4e4-0019-4dc1-8e89-4a28a92f5578",
   "metadata": {},
   "outputs": [
    {
     "data": {
      "text/plain": [
       "array([ 20,  12,  28,  35,  48,  71, 145])"
      ]
     },
     "execution_count": 67,
     "metadata": {},
     "output_type": "execute_result"
    }
   ],
   "source": [
    "x"
   ]
  },
  {
   "cell_type": "code",
   "execution_count": 68,
   "id": "98d6b45c-852b-4deb-b389-da8cc9cc74b7",
   "metadata": {},
   "outputs": [],
   "source": [
    "x= np.array([11,12,28,35,48,71,145])"
   ]
  },
  {
   "cell_type": "code",
   "execution_count": 69,
   "id": "daf82619-072f-45f3-9cb9-d83434621847",
   "metadata": {},
   "outputs": [],
   "source": [
    "y=x.copy()"
   ]
  },
  {
   "cell_type": "code",
   "execution_count": 70,
   "id": "a3a7bd83-750b-461b-81b0-9317466699cb",
   "metadata": {},
   "outputs": [
    {
     "data": {
      "text/plain": [
       "array([ 11,  12,  28,  35,  48,  71, 145])"
      ]
     },
     "execution_count": 70,
     "metadata": {},
     "output_type": "execute_result"
    }
   ],
   "source": [
    "x"
   ]
  },
  {
   "cell_type": "code",
   "execution_count": 71,
   "id": "d152d99f-0f81-4501-925c-9535ee5b8836",
   "metadata": {},
   "outputs": [
    {
     "data": {
      "text/plain": [
       "array([ 11,  12,  28,  35,  48,  71, 145])"
      ]
     },
     "execution_count": 71,
     "metadata": {},
     "output_type": "execute_result"
    }
   ],
   "source": [
    "y"
   ]
  },
  {
   "cell_type": "code",
   "execution_count": 72,
   "id": "fa86ab0a-f8d0-4644-98b3-9491ae42cb5e",
   "metadata": {},
   "outputs": [],
   "source": [
    "y[0]=20"
   ]
  },
  {
   "cell_type": "code",
   "execution_count": 73,
   "id": "052187d6-1773-41ce-90b5-7fffbf5132b6",
   "metadata": {},
   "outputs": [
    {
     "data": {
      "text/plain": [
       "array([ 11,  12,  28,  35,  48,  71, 145])"
      ]
     },
     "execution_count": 73,
     "metadata": {},
     "output_type": "execute_result"
    }
   ],
   "source": [
    "x"
   ]
  },
  {
   "cell_type": "code",
   "execution_count": 74,
   "id": "f9e03204-9946-48c5-b1a8-713ea05d723d",
   "metadata": {},
   "outputs": [
    {
     "data": {
      "text/plain": [
       "array([ 20,  12,  28,  35,  48,  71, 145])"
      ]
     },
     "execution_count": 74,
     "metadata": {},
     "output_type": "execute_result"
    }
   ],
   "source": [
    "y"
   ]
  },
  {
   "cell_type": "code",
   "execution_count": null,
   "id": "f74598b4-61a2-4722-b9bb-eabf04d700a0",
   "metadata": {},
   "outputs": [],
   "source": []
  }
 ],
 "metadata": {
  "kernelspec": {
   "display_name": "Python 3 (ipykernel)",
   "language": "python",
   "name": "python3"
  },
  "language_info": {
   "codemirror_mode": {
    "name": "ipython",
    "version": 3
   },
   "file_extension": ".py",
   "mimetype": "text/x-python",
   "name": "python",
   "nbconvert_exporter": "python",
   "pygments_lexer": "ipython3",
   "version": "3.11.7"
  }
 },
 "nbformat": 4,
 "nbformat_minor": 5
}
