{
 "cells": [
  {
   "cell_type": "code",
   "execution_count": 1,
   "id": "ba102a28-25d5-4eb7-81df-f11ea79d89fb",
   "metadata": {},
   "outputs": [],
   "source": [
    "import cv2"
   ]
  },
  {
   "cell_type": "code",
   "execution_count": 2,
   "id": "0bc8b0bb-62e0-48e1-8acc-6f77523b1377",
   "metadata": {},
   "outputs": [],
   "source": [
    "import matplotlib.pyplot as plt"
   ]
  },
  {
   "cell_type": "code",
   "execution_count": 4,
   "id": "9f2075de-0ab1-4769-8ce6-7e2169764394",
   "metadata": {},
   "outputs": [],
   "source": [
    "img = cv2.imread('images/lenna.png')"
   ]
  },
  {
   "cell_type": "code",
   "execution_count": null,
   "id": "651d65ef-59f2-4e6a-9172-ea4dd191fb6b",
   "metadata": {},
   "outputs": [],
   "source": []
  },
  {
   "cell_type": "code",
   "execution_count": 5,
   "id": "2708de26-ef2a-4968-b0a2-86c8e5faab42",
   "metadata": {},
   "outputs": [
    {
     "data": {
      "text/plain": [
       "(512, 512, 3)"
      ]
     },
     "execution_count": 5,
     "metadata": {},
     "output_type": "execute_result"
    }
   ],
   "source": [
    "img.shape"
   ]
  },
  {
   "cell_type": "code",
   "execution_count": 6,
   "id": "e500819f-3a88-48b3-87d0-273dc683be8d",
   "metadata": {},
   "outputs": [],
   "source": [
    "pix = img[234,279]"
   ]
  },
  {
   "cell_type": "code",
   "execution_count": 10,
   "id": "3b5e6304-e16d-4eb8-a6dd-0a4d8a77660a",
   "metadata": {},
   "outputs": [
    {
     "data": {
      "text/plain": [
       "array([[[130, 142, 213]]], dtype=uint8)"
      ]
     },
     "execution_count": 10,
     "metadata": {},
     "output_type": "execute_result"
    }
   ],
   "source": [
    "pix = pix.reshape(1,1,3)\n",
    "pix"
   ]
  },
  {
   "cell_type": "code",
   "execution_count": 11,
   "id": "4b8a3db4-166d-4479-8cf2-1f2cfceff713",
   "metadata": {},
   "outputs": [
    {
     "data": {
      "text/plain": [
       "<matplotlib.image.AxesImage at 0x1dbca4b8b50>"
      ]
     },
     "execution_count": 11,
     "metadata": {},
     "output_type": "execute_result"
    },
    {
     "data": {
      "image/png": "[encoded data removed]",
      "text/plain": [
       "<Figure size 640x480 with 1 Axes>"
      ]
     },
     "metadata": {},
     "output_type": "display_data"
    }
   ],
   "source": [
    "plt.imshow(pix)"
   ]
  },
  {
   "cell_type": "code",
   "execution_count": 59,
   "id": "f79b4a12-e491-4165-a3ac-a30b1b700352",
   "metadata": {},
   "outputs": [],
   "source": [
    "cv2.imshow('Image',img)\n",
    "cv2.waitKey(0)\n",
    "cv2.destroyAllWindows()"
   ]
  },
  {
   "cell_type": "code",
   "execution_count": 54,
   "id": "4e9dbdd1-3c2c-4772-afc7-05c373e9e268",
   "metadata": {},
   "outputs": [],
   "source": [
    "img[100:300, 100:300] = 0"
   ]
  },
  {
   "cell_type": "code",
   "execution_count": 55,
   "id": "69e9006e-dac5-418b-bb12-49dc9b0ca620",
   "metadata": {},
   "outputs": [],
   "source": [
    "cv2.imshow('Image', img)\n",
    "cv2.waitKey(0)\n",
    "cv2.destroyAllWindows()"
   ]
  },
  {
   "cell_type": "code",
   "execution_count": 3,
   "id": "c79a14cc-2898-4b74-84b2-dfb9b7c48253",
   "metadata": {},
   "outputs": [],
   "source": [
    "import cv2"
   ]
  },
  {
   "cell_type": "code",
   "execution_count": 4,
   "id": "2f6548b9-d05f-4ad0-a917-70710b74bcad",
   "metadata": {},
   "outputs": [],
   "source": [
    "import matplotlib.pyplot as plt"
   ]
  },
  {
   "cell_type": "markdown",
   "id": "9e610283-0432-496a-a664-dd5cc4b33bec",
   "metadata": {},
   "source": [
    "# image with cut patches"
   ]
  },
  {
   "cell_type": "code",
   "execution_count": 6,
   "id": "23f7ccb2-6f06-483e-a216-ab6215dec481",
   "metadata": {},
   "outputs": [],
   "source": [
    "img = cv2.imread('images/lenna.png')"
   ]
  },
  {
   "cell_type": "code",
   "execution_count": 7,
   "id": "e868d6bb-79a6-499b-bb71-98e14d4380f8",
   "metadata": {},
   "outputs": [],
   "source": [
    "for i in range(512):\n",
    "    img[i,i] = 0"
   ]
  },
  {
   "cell_type": "code",
   "execution_count": 8,
   "id": "1d8f3628-29ab-44c5-a0c0-236aaf56ed92",
   "metadata": {},
   "outputs": [],
   "source": [
    "cv2.imshow('Image',img)\n",
    "cv2.waitKey(0)\n",
    "cv2.destroyAllWindows()"
   ]
  },
  {
   "cell_type": "markdown",
   "id": "cc5838a6-ad9a-43dc-b54c-bb7f2c55d2dd",
   "metadata": {},
   "source": [
    "# image with alternate rows black"
   ]
  },
  {
   "cell_type": "code",
   "execution_count": 30,
   "id": "0f137b19-0e29-4bc3-b05f-2252fc1fa493",
   "metadata": {},
   "outputs": [],
   "source": [
    "img = cv2.imread('images/lenna.png')"
   ]
  },
  {
   "cell_type": "code",
   "execution_count": 31,
   "id": "2fdfd983-afb0-4848-a64c-6f80ae23a967",
   "metadata": {},
   "outputs": [],
   "source": [
    "img[100:300, 100:300] = 0"
   ]
  },
  {
   "cell_type": "code",
   "execution_count": 39,
   "id": "ccdbcf5d-6a0c-43d6-a0fa-a3b650f58563",
   "metadata": {},
   "outputs": [],
   "source": [
    "cv2.imshow('Image',img)\n",
    "cv2.waitKey(0)\n",
    "cv2.destroyAllWindows()"
   ]
  },
  {
   "cell_type": "raw",
   "id": "daaa7987-5066-46a9-bc31-52cddd3f9a60",
   "metadata": {},
   "source": []
  },
  {
   "cell_type": "markdown",
   "id": "ed613622-d9fe-4918-aaa1-e4f7eff8b4f2",
   "metadata": {},
   "source": [
    "# image with alternate row black"
   ]
  },
  {
   "cell_type": "code",
   "execution_count": 33,
   "id": "894267a0-f132-43f5-a6f0-a01d2203ec82",
   "metadata": {},
   "outputs": [],
   "source": [
    "img = cv2.imread('images/lenna.png')"
   ]
  },
  {
   "cell_type": "code",
   "execution_count": 37,
   "id": "cd13c167-5885-4850-9db7-425ab398d61f",
   "metadata": {},
   "outputs": [],
   "source": [
    "for i in range(0,512,2):\n",
    "    for j in range(512):\n",
    "          img[i,j] = 0\n",
    "    "
   ]
  },
  {
   "cell_type": "code",
   "execution_count": 40,
   "id": "7682a90e-7d2b-4bfc-a474-5f82b0215e18",
   "metadata": {},
   "outputs": [],
   "source": [
    "cv2.imshow('Image',img)\n",
    "cv2.waitKey(0)\n",
    "cv2.destroyAllWindows()"
   ]
  }
 ],
 "metadata": {
  "kernelspec": {
   "display_name": "Python 3 (ipykernel)",
   "language": "python",
   "name": "python3"
  },
  "language_info": {
   "codemirror_mode": {
    "name": "ipython",
    "version": 3
   },
   "file_extension": ".py",
   "mimetype": "text/x-python",
   "name": "python",
   "nbconvert_exporter": "python",
   "pygments_lexer": "ipython3",
   "version": "3.11.7"
  }
 },
 "nbformat": 4,
 "nbformat_minor": 5
}
