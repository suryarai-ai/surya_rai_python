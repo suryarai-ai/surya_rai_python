{
 "cells": [
  {
   "cell_type": "code",
   "execution_count": 7,
   "id": "2bdd2b30-2e0e-4ef8-801d-1d9849157f0a",
   "metadata": {},
   "outputs": [],
   "source": [
    "import cv2\n",
    "import numpy as np\n",
    "import matplotlib.pyplot as plt"
   ]
  },
  {
   "cell_type": "code",
   "execution_count": 8,
   "id": "06d8824f-043d-4a13-a7e4-5e5e4396ef4f",
   "metadata": {},
   "outputs": [],
   "source": [
    "img = cv2.imread('images/cat_damaged.png')"
   ]
  },
  {
   "cell_type": "code",
   "execution_count": 9,
   "id": "e006e9c9-4e59-4d87-b270-522e247c79b5",
   "metadata": {},
   "outputs": [],
   "source": [
    "cv2.imshow('Damaged image', img)\n",
    "cv2.waitKey(0)\n",
    "cv2.destroyAllWindows()"
   ]
  },
  {
   "cell_type": "code",
   "execution_count": 10,
   "id": "e4256b0d-b480-488e-b704-4f06f6d91562",
   "metadata": {},
   "outputs": [],
   "source": [
    "height, width =img.shape[:2]"
   ]
  },
  {
   "cell_type": "code",
   "execution_count": 11,
   "id": "dbcc1332-db27-4cf6-a251-8036fe098444",
   "metadata": {},
   "outputs": [
    {
     "data": {
      "text/plain": [
       "(400, 400)"
      ]
     },
     "execution_count": 11,
     "metadata": {},
     "output_type": "execute_result"
    }
   ],
   "source": [
    "height, width"
   ]
  },
  {
   "cell_type": "code",
   "execution_count": 17,
   "id": "a7016371-2f14-4451-a81c-5c89dde319e7",
   "metadata": {},
   "outputs": [],
   "source": [
    "mask = np.zeros([height, width,3], dtype= np.uint8) "
   ]
  },
  {
   "cell_type": "code",
   "execution_count": null,
   "id": "9a6a18b1-28bd-4186-a647-8f9d5dc8d0f0",
   "metadata": {},
   "outputs": [],
   "source": [
    "for i in range(height):\n",
    "    for j in range(width):\n",
    "        if img[i, j].sum() == 0:\n",
    "       mask[i,j] [255,255,255]"
   ]
  },
  {
   "cell_type": "code",
   "execution_count": 30,
   "id": "e00db7cc-1630-48be-a5d2-430f886eb672",
   "metadata": {},
   "outputs": [],
   "source": [
    "cv2.imshow('Mask', mask)\n",
    "cv2.waitKey(0)\n",
    "cv2.destroyAllWindows()"
   ]
  },
  {
   "cell_type": "code",
   "execution_count": 27,
   "id": "2eb1b37a-2fff-4e27-a016-10081fa6db8c",
   "metadata": {},
   "outputs": [],
   "source": [
    "mask = cv2.cvtColor(mask, cv2.COLOR_BGR2GRAY)"
   ]
  },
  {
   "cell_type": "code",
   "execution_count": 28,
   "id": "5005c56c-5f95-4638-bcca-05e3e903364e",
   "metadata": {},
   "outputs": [],
   "source": [
    "dst = cv2.inpaint(img, mask, 3, cv2.INPAINT_NS)"
   ]
  },
  {
   "cell_type": "code",
   "execution_count": 29,
   "id": "60901690-cf6c-4ddd-b3ed-79b2d0f6a6d0",
   "metadata": {},
   "outputs": [],
   "source": [
    "cv2.imshow('Damaged image',dst )\n",
    "cv2.waitKey(0)\n",
    "cv2.destroyAllWindows()"
   ]
  },
  {
   "cell_type": "code",
   "execution_count": null,
   "id": "6c13e91f-a70a-422b-9178-b4fa35766c4b",
   "metadata": {},
   "outputs": [],
   "source": []
  }
 ],
 "metadata": {
  "kernelspec": {
   "display_name": "Python 3 (ipykernel)",
   "language": "python",
   "name": "python3"
  },
  "language_info": {
   "codemirror_mode": {
    "name": "ipython",
    "version": 3
   },
   "file_extension": ".py",
   "mimetype": "text/x-python",
   "name": "python",
   "nbconvert_exporter": "python",
   "pygments_lexer": "ipython3",
   "version": "3.11.7"
  }
 },
 "nbformat": 4,
 "nbformat_minor": 5
}
