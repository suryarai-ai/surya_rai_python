{
 "cells": [
  {
   "cell_type": "code",
   "execution_count": 2,
   "id": "d9448c63-1249-47f7-a2e0-d8d499601f58",
   "metadata": {},
   "outputs": [],
   "source": [
    "#psachin.jpg\n",
    "# location: https://mitu.co.in/images"
   ]
  },
  {
   "cell_type": "code",
   "execution_count": 5,
   "id": "402e88f7-b6f6-4764-ac13-c3d86f72748d",
   "metadata": {},
   "outputs": [],
   "source": [
    "import cv2 \n",
    "import numpy as np\n",
    "import matplotlib.pyplot as plt"
   ]
  },
  {
   "cell_type": "code",
   "execution_count": 7,
   "id": "40ab4f9c-4488-42e6-abc3-682f8d4d4c83",
   "metadata": {},
   "outputs": [],
   "source": [
    "#1"
   ]
  },
  {
   "cell_type": "code",
   "execution_count": 6,
   "id": "eb9227c6-ee73-4534-af02-5dc7130ff1b4",
   "metadata": {},
   "outputs": [],
   "source": [
    "image = cv2.imread('images/sachin.jpg')"
   ]
  },
  {
   "cell_type": "code",
   "execution_count": 10,
   "id": "b8f34594-f6b9-40d4-afdc-755101dfb34a",
   "metadata": {},
   "outputs": [
    {
     "data": {
      "text/plain": [
       "(2741250, (1075, 850, 3))"
      ]
     },
     "execution_count": 10,
     "metadata": {},
     "output_type": "execute_result"
    }
   ],
   "source": [
    "#1\n",
    "image.size, image.shape"
   ]
  },
  {
   "cell_type": "code",
   "execution_count": 12,
   "id": "b50e01fd-63f5-49af-8d8e-63ce571b066f",
   "metadata": {},
   "outputs": [],
   "source": [
    "#2\n",
    "rgb_image = cv2.cvtColor(image, cv2.COLOR_BGR2RGB)"
   ]
  },
  {
   "cell_type": "code",
   "execution_count": null,
   "id": "1ce68bed-9530-4c4f-9f7f-ee274b161b5d",
   "metadata": {},
   "outputs": [],
   "source": [
    "cv2.imshow('sachin image', image)\n",
    "plt.show('sachin image',image)\n",
    "cv2.waitKey(0)\n",
    "cv2.destroyAllWindows()"
   ]
  },
  {
   "cell_type": "code",
   "execution_count": null,
   "id": "6ab4beba-fa61-462b-a979-5fdebe1bea14",
   "metadata": {},
   "outputs": [],
   "source": []
  },
  {
   "cell_type": "code",
   "execution_count": null,
   "id": "05faae97-b3ef-400c-8bf9-edcd55ed6691",
   "metadata": {},
   "outputs": [],
   "source": []
  }
 ],
 "metadata": {
  "kernelspec": {
   "display_name": "Python 3 (ipykernel)",
   "language": "python",
   "name": "python3"
  },
  "language_info": {
   "codemirror_mode": {
    "name": "ipython",
    "version": 3
   },
   "file_extension": ".py",
   "mimetype": "text/x-python",
   "name": "python",
   "nbconvert_exporter": "python",
   "pygments_lexer": "ipython3",
   "version": "3.11.7"
  }
 },
 "nbformat": 4,
 "nbformat_minor": 5
}
