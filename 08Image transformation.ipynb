{
 "cells": [
  {
   "cell_type": "code",
   "execution_count": 1,
   "id": "ec18b399-39ed-45c0-967b-a482cfb97dad",
   "metadata": {},
   "outputs": [],
   "source": [
    "import cv2 \n",
    "import numpy as np\n",
    "import matplotlib.pyplot as plt\n"
   ]
  },
  {
   "cell_type": "code",
   "execution_count": 17,
   "id": "1905359b-67a5-46c5-ac57-609205aeb72c",
   "metadata": {},
   "outputs": [],
   "source": [
    "image = cv2.imread('images/lenna.png')\n",
    "#store height and width of the image\n",
    "height, width = image.shape[:2]\n",
    "\n",
    "quarter_height, quarter_width = height / 4, width / 4\n",
    "\n",
    "T = np.float32([[1, 0 , quarter_width ],[0 , 1 , quarter_height ]])\n",
    "\n",
    "# we use wrapAffine to translate the image using the matrix, T\n",
    "img_translation = cv2.warpAffine(image, T, (width, height))"
   ]
  },
  {
   "cell_type": "code",
   "execution_count": 9,
   "id": "9e1f1ee1-0ffa-4c89-9a17-f3e0be608c5f",
   "metadata": {},
   "outputs": [
    {
     "data": {
      "text/plain": [
       "array([[  1.,   0., 128.],\n",
       "       [  0.,   1., 128.]], dtype=float32)"
      ]
     },
     "execution_count": 9,
     "metadata": {},
     "output_type": "execute_result"
    }
   ],
   "source": [
    "T"
   ]
  },
  {
   "cell_type": "code",
   "execution_count": 10,
   "id": "6d6f5a2f-565a-4539-bcc3-bde1d45cbbe6",
   "metadata": {},
   "outputs": [],
   "source": [
    "cv2.imshow('Original image', image)\n",
    "cv2.imshow('translated image', img_translation)\n",
    "cv2.waitKey(0)\n",
    "cv2.destroyAllWindows()\n"
   ]
  },
  {
   "cell_type": "code",
   "execution_count": 18,
   "id": "767a3bcb-e2b8-498f-9351-2f52fc16ecd2",
   "metadata": {},
   "outputs": [],
   "source": [
    "T = np.float32([[1, 0 , 40 ],[0 , 1 , 100 ]])\n",
    "\n",
    "img_translation = cv2.warpAffine(image, T, ((width+10, height+10)))\n",
    "\n",
    "cv2.imshow('Original image', image)\n",
    "cv2.imshow('translated image', img_translation)\n",
    "cv2.waitKey(0)\n",
    "cv2.destroyAllWindows()\n"
   ]
  },
  {
   "cell_type": "code",
   "execution_count": null,
   "id": "3c854352-a16d-4742-b666-ab843665de74",
   "metadata": {},
   "outputs": [],
   "source": []
  }
 ],
 "metadata": {
  "kernelspec": {
   "display_name": "Python 3 (ipykernel)",
   "language": "python",
   "name": "python3"
  },
  "language_info": {
   "codemirror_mode": {
    "name": "ipython",
    "version": 3
   },
   "file_extension": ".py",
   "mimetype": "text/x-python",
   "name": "python",
   "nbconvert_exporter": "python",
   "pygments_lexer": "ipython3",
   "version": "3.11.7"
  }
 },
 "nbformat": 4,
 "nbformat_minor": 5
}
