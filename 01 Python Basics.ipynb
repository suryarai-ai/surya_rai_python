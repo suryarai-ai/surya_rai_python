{
 "cells": [
  {
   "cell_type": "code",
   "execution_count": 1,
   "id": "3c20e07d-bf6b-4efa-b263-cafd27648ee6",
   "metadata": {},
   "outputs": [
    {
     "name": "stdout",
     "output_type": "stream",
     "text": [
      "3.12.4 | packaged by Anaconda, Inc. | (main, Jun 18 2024, 15:03:56) [MSC v.1929 64 bit (AMD64)]\n"
     ]
    }
   ],
   "source": [
    "import sys\n",
    "\n",
    "print(sys.version)"
   ]
  },
  {
   "cell_type": "code",
   "execution_count": 3,
   "id": "768cadf9-351a-42f5-9489-d83d701ce25f",
   "metadata": {},
   "outputs": [
    {
     "name": "stdout",
     "output_type": "stream",
     "text": [
      "hello world\n"
     ]
    }
   ],
   "source": [
    "print('hello world')"
   ]
  },
  {
   "cell_type": "markdown",
   "id": "e67dbeeb-b7da-4c4c-9033-0969f586d14e",
   "metadata": {},
   "source": [
    "### Simple python program"
   ]
  },
  {
   "cell_type": "code",
   "execution_count": 103,
   "id": "694df409-9720-426b-ada7-c6e8ef95d9ff",
   "metadata": {},
   "outputs": [
    {
     "name": "stdin",
     "output_type": "stream",
     "text": [
      "enter the temp in centegrate  23\n"
     ]
    },
    {
     "name": "stdout",
     "output_type": "stream",
     "text": [
      "farenhite temp: 73.4\n"
     ]
    }
   ],
   "source": [
    "cent = int(input('enter the temp in centegrate '))\n",
    "far = cent* 1.8 + 32\n",
    "print('farenhite temp:', far)\n"
   ]
  },
  {
   "cell_type": "code",
   "execution_count": 8,
   "id": "94893347-e536-4937-8b44-06017f417afd",
   "metadata": {},
   "outputs": [
    {
     "data": {
      "text/plain": [
       "int"
      ]
     },
     "execution_count": 8,
     "metadata": {},
     "output_type": "execute_result"
    }
   ],
   "source": [
    "type(cent)"
   ]
  },
  {
   "cell_type": "markdown",
   "id": "df93e38b-67ae-42f8-9cae-91e96a2dc664",
   "metadata": {},
   "source": [
    "### Decision making statement"
   ]
  },
  {
   "cell_type": "code",
   "execution_count": 105,
   "id": "f0aee77d-1bb5-48ea-a8a1-6e33a6ee9567",
   "metadata": {},
   "outputs": [
    {
     "name": "stdin",
     "output_type": "stream",
     "text": [
      "enter the No 3\n"
     ]
    },
    {
     "name": "stdout",
     "output_type": "stream",
     "text": [
      "given no is positive\n"
     ]
    }
   ],
   "source": [
    "num = int(input('enter the No'))\n",
    "if num > 0:\n",
    "    print('given no is positive')\n",
    "else:\n",
    "    print ('Given no is not negative')"
   ]
  },
  {
   "cell_type": "code",
   "execution_count": 107,
   "id": "d8c0e850-fdaa-42b1-8304-96eb35260abf",
   "metadata": {},
   "outputs": [
    {
     "name": "stdin",
     "output_type": "stream",
     "text": [
      "enter the No 8\n"
     ]
    },
    {
     "name": "stdout",
     "output_type": "stream",
     "text": [
      "given no is positive\n"
     ]
    }
   ],
   "source": [
    "num = int(input('enter the No'))\n",
    "if num > 0:\n",
    "    print('given no is positive')\n",
    "elif num == 0:\n",
    "    print('the given no is zero')\n",
    "else:\n",
    "    print ('Given no is not negative')\n"
   ]
  },
  {
   "cell_type": "code",
   "execution_count": 109,
   "id": "e2cc4ff7-f776-4247-b178-205a735a9a41",
   "metadata": {},
   "outputs": [
    {
     "name": "stdout",
     "output_type": "stream",
     "text": [
      "Python is an easy PL\n",
      "Python is an easy PL\n",
      "Python is an easy PL\n",
      "Python is an easy PL\n",
      "Python is an easy PL\n",
      "Python is an easy PL\n",
      "Python is an easy PL\n",
      "Python is an easy PL\n",
      "Python is an easy PL\n",
      "Python is an easy PL\n"
     ]
    }
   ],
   "source": [
    "count = 0\n",
    "while count <10:\n",
    "    print('Python is an easy PL')\n",
    "    count = count+1"
   ]
  },
  {
   "cell_type": "code",
   "execution_count": 111,
   "id": "08964a60-b90e-4e44-8905-fd9df6a4fd98",
   "metadata": {},
   "outputs": [
    {
     "name": "stdout",
     "output_type": "stream",
     "text": [
      "67\n",
      "45\n",
      "23\n",
      "12\n",
      "12\n",
      "90\n"
     ]
    }
   ],
   "source": [
    "for i in 67,45,23,12,12,90:\n",
    "    print(i)"
   ]
  },
  {
   "cell_type": "code",
   "execution_count": 113,
   "id": "1ec0683b-1af0-4040-909d-73df3e6e7e0a",
   "metadata": {},
   "outputs": [
    {
     "name": "stdout",
     "output_type": "stream",
     "text": [
      "PPPPPPPPPP\n",
      "uuuuuuuuuu\n",
      "nnnnnnnnnn\n",
      "eeeeeeeeee\n"
     ]
    }
   ],
   "source": [
    "for i in 'Pune':\n",
    "    print(i*10)"
   ]
  },
  {
   "cell_type": "code",
   "execution_count": 115,
   "id": "59e48771-686b-471f-b624-afa632b22236",
   "metadata": {},
   "outputs": [
    {
     "name": "stdout",
     "output_type": "stream",
     "text": [
      "0\n",
      "1\n",
      "4\n",
      "9\n",
      "16\n",
      "25\n",
      "36\n",
      "49\n",
      "64\n",
      "81\n",
      "100\n",
      "121\n",
      "144\n",
      "169\n",
      "196\n",
      "225\n",
      "256\n",
      "289\n",
      "324\n",
      "361\n"
     ]
    }
   ],
   "source": [
    "for x in range(20):\n",
    "    print(x*x)"
   ]
  },
  {
   "cell_type": "code",
   "execution_count": 117,
   "id": "165da014-55a9-498d-b462-8f540526e101",
   "metadata": {},
   "outputs": [
    {
     "name": "stdout",
     "output_type": "stream",
     "text": [
      "0\n",
      "1\n",
      "4\n",
      "9\n",
      "16\n",
      "36\n",
      "49\n",
      "64\n",
      "81\n"
     ]
    }
   ],
   "source": [
    "for x in range(10):\n",
    "    if x == 5:\n",
    "        continue\n",
    "    print(x*x)"
   ]
  },
  {
   "cell_type": "markdown",
   "id": "114c7b67-80de-4eb5-be4c-4c7df03102fe",
   "metadata": {},
   "source": [
    "### Function"
   ]
  },
  {
   "cell_type": "code",
   "execution_count": 120,
   "id": "2986fa1e-15cf-46d9-b99c-fa6a587ce20d",
   "metadata": {},
   "outputs": [],
   "source": [
    "def square(num = 10):    #default parameter\n",
    "    sq = num*num\n",
    "    return sq\n",
    "    "
   ]
  },
  {
   "cell_type": "code",
   "execution_count": 122,
   "id": "703b110f-9ee8-4ab7-ac09-a32fab9cb815",
   "metadata": {},
   "outputs": [
    {
     "data": {
      "text/plain": [
       "25"
      ]
     },
     "execution_count": 122,
     "metadata": {},
     "output_type": "execute_result"
    }
   ],
   "source": [
    "square(5)"
   ]
  },
  {
   "cell_type": "code",
   "execution_count": 124,
   "id": "6f1d387f-73ca-4b3b-8868-286f1f75c4f2",
   "metadata": {},
   "outputs": [
    {
     "data": {
      "text/plain": [
       "4489"
      ]
     },
     "execution_count": 124,
     "metadata": {},
     "output_type": "execute_result"
    }
   ],
   "source": [
    "square(67)"
   ]
  },
  {
   "cell_type": "code",
   "execution_count": 126,
   "id": "bc52f4ad-2457-496c-b0bc-41f0c5a395b6",
   "metadata": {},
   "outputs": [
    {
     "data": {
      "text/plain": [
       "100"
      ]
     },
     "execution_count": 126,
     "metadata": {},
     "output_type": "execute_result"
    }
   ],
   "source": [
    "square()"
   ]
  },
  {
   "cell_type": "code",
   "execution_count": 128,
   "id": "8b3defd8-c1a9-4e2d-8dd9-0441ebb722ad",
   "metadata": {},
   "outputs": [],
   "source": [
    "def calc(num):\n",
    "    sq = num* num\n",
    "    cube = num** 3\n",
    "    return sq, cube"
   ]
  },
  {
   "cell_type": "code",
   "execution_count": 130,
   "id": "4424c9fd-9fa0-4672-a0e0-a84d8b135e28",
   "metadata": {},
   "outputs": [
    {
     "data": {
      "text/plain": [
       "(16, 64)"
      ]
     },
     "execution_count": 130,
     "metadata": {},
     "output_type": "execute_result"
    }
   ],
   "source": [
    "calc(4)"
   ]
  },
  {
   "cell_type": "code",
   "execution_count": 132,
   "id": "2411ea29-8cfd-4790-95cd-6642710c057c",
   "metadata": {},
   "outputs": [
    {
     "data": {
      "text/plain": [
       "(7744, 681472)"
      ]
     },
     "execution_count": 132,
     "metadata": {},
     "output_type": "execute_result"
    }
   ],
   "source": [
    "calc(88)"
   ]
  },
  {
   "cell_type": "markdown",
   "id": "dfd1fe38-dd81-45d6-ad34-2706b334b74e",
   "metadata": {},
   "source": [
    "### Data Structure"
   ]
  },
  {
   "cell_type": "code",
   "execution_count": 135,
   "id": "110a35a3-931d-46f1-b1a1-fa17e4ce41a5",
   "metadata": {},
   "outputs": [],
   "source": [
    "#Test whether tuples are immutable(can't modify or assign new value) and lists are mutable(can be modified)"
   ]
  },
  {
   "cell_type": "code",
   "execution_count": 137,
   "id": "fe3f391d-2fa8-40ab-94de-b3f4004ef894",
   "metadata": {},
   "outputs": [],
   "source": [
    "num1 = [45,67,11,23,68,90]"
   ]
  },
  {
   "cell_type": "code",
   "execution_count": 139,
   "id": "096b1d7a-c47a-4c6c-9d17-10b08c5797ea",
   "metadata": {},
   "outputs": [
    {
     "data": {
      "text/plain": [
       "list"
      ]
     },
     "execution_count": 139,
     "metadata": {},
     "output_type": "execute_result"
    }
   ],
   "source": [
    "type(num1)"
   ]
  },
  {
   "cell_type": "code",
   "execution_count": 141,
   "id": "43222297-a6c0-440e-aa36-3f7498dae77b",
   "metadata": {},
   "outputs": [],
   "source": [
    "num1[2] = 56 "
   ]
  },
  {
   "cell_type": "code",
   "execution_count": 143,
   "id": "4d32d468-ace3-4e74-ae63-d80cf2ab7ba5",
   "metadata": {},
   "outputs": [
    {
     "data": {
      "text/plain": [
       "[45, 67, 56, 23, 68, 90]"
      ]
     },
     "execution_count": 143,
     "metadata": {},
     "output_type": "execute_result"
    }
   ],
   "source": [
    "num1"
   ]
  },
  {
   "cell_type": "code",
   "execution_count": 145,
   "id": "f29587c6-63e6-499d-91bf-09d0e7c3947d",
   "metadata": {},
   "outputs": [],
   "source": [
    "num2 = (45,67,11,23,68,90)"
   ]
  },
  {
   "cell_type": "code",
   "execution_count": 147,
   "id": "61262bd7-601c-452b-a636-6119dc0e5e89",
   "metadata": {},
   "outputs": [
    {
     "data": {
      "text/plain": [
       "tuple"
      ]
     },
     "execution_count": 147,
     "metadata": {},
     "output_type": "execute_result"
    }
   ],
   "source": [
    "type(num2)"
   ]
  },
  {
   "cell_type": "code",
   "execution_count": 149,
   "id": "2addbd66-909d-4e01-815a-6bc428710ee1",
   "metadata": {},
   "outputs": [
    {
     "ename": "TypeError",
     "evalue": "'tuple' object does not support item assignment",
     "output_type": "error",
     "traceback": [
      "\u001b[1;31m---------------------------------------------------------------------------\u001b[0m",
      "\u001b[1;31mTypeError\u001b[0m                                 Traceback (most recent call last)",
      "Cell \u001b[1;32mIn[149], line 1\u001b[0m\n\u001b[1;32m----> 1\u001b[0m num2[\u001b[38;5;241m2\u001b[39m] \u001b[38;5;241m=\u001b[39m \u001b[38;5;241m56\u001b[39m\n",
      "\u001b[1;31mTypeError\u001b[0m: 'tuple' object does not support item assignment"
     ]
    }
   ],
   "source": [
    "num2[2] = 56"
   ]
  },
  {
   "cell_type": "code",
   "execution_count": 151,
   "id": "64c819cb-f969-4acc-a7f0-377de8de8cd9",
   "metadata": {},
   "outputs": [],
   "source": [
    "# set and dictionary"
   ]
  },
  {
   "cell_type": "code",
   "execution_count": 153,
   "id": "5068731f-9c5b-4d59-89d0-adc437c32748",
   "metadata": {},
   "outputs": [],
   "source": [
    "num3 = {45,67,11,23,68,90}"
   ]
  },
  {
   "cell_type": "code",
   "execution_count": 155,
   "id": "b1d4a149-1671-4571-8331-8178fd5fd4e5",
   "metadata": {},
   "outputs": [
    {
     "data": {
      "text/plain": [
       "set"
      ]
     },
     "execution_count": 155,
     "metadata": {},
     "output_type": "execute_result"
    }
   ],
   "source": [
    "type(num3)"
   ]
  },
  {
   "cell_type": "code",
   "execution_count": 157,
   "id": "fac007d6-0638-4a12-85dc-57b56f7eb286",
   "metadata": {},
   "outputs": [
    {
     "data": {
      "text/plain": [
       "{11, 23, 45, 67, 68, 90}"
      ]
     },
     "execution_count": 157,
     "metadata": {},
     "output_type": "execute_result"
    }
   ],
   "source": [
    "num3"
   ]
  },
  {
   "cell_type": "code",
   "execution_count": 159,
   "id": "60879cb9-0ad8-46f5-9f10-1de689e7fa61",
   "metadata": {},
   "outputs": [],
   "source": [
    "num4 = {2:45,5:67,10:11,12:23,16:68, 'x':90}"
   ]
  },
  {
   "cell_type": "code",
   "execution_count": 161,
   "id": "4cc85f46-340f-493c-bac5-e6e446e4f81e",
   "metadata": {},
   "outputs": [
    {
     "data": {
      "text/plain": [
       "90"
      ]
     },
     "execution_count": 161,
     "metadata": {},
     "output_type": "execute_result"
    }
   ],
   "source": [
    "num4['x']"
   ]
  },
  {
   "cell_type": "code",
   "execution_count": 163,
   "id": "406d65d6-ab0b-416c-b610-629333764437",
   "metadata": {},
   "outputs": [
    {
     "data": {
      "text/plain": [
       "45"
      ]
     },
     "execution_count": 163,
     "metadata": {},
     "output_type": "execute_result"
    }
   ],
   "source": [
    "num4[2]"
   ]
  },
  {
   "cell_type": "code",
   "execution_count": 165,
   "id": "3d7f6120-5f0e-43c0-936b-86ecc87faed7",
   "metadata": {},
   "outputs": [
    {
     "data": {
      "text/plain": [
       "23"
      ]
     },
     "execution_count": 165,
     "metadata": {},
     "output_type": "execute_result"
    }
   ],
   "source": [
    "num4[12]"
   ]
  },
  {
   "cell_type": "markdown",
   "id": "4c59592b-c564-4718-ad46-6096e56abf60",
   "metadata": {},
   "source": [
    "### Class "
   ]
  },
  {
   "cell_type": "code",
   "execution_count": 168,
   "id": "92aba56c-345a-4641-a8db-8e4a9b16346c",
   "metadata": {},
   "outputs": [],
   "source": [
    "num1.reverse()"
   ]
  },
  {
   "cell_type": "code",
   "execution_count": 170,
   "id": "d03b6ec8-0322-4f39-b4aa-784914bc5c87",
   "metadata": {},
   "outputs": [
    {
     "data": {
      "text/plain": [
       "[90, 68, 23, 56, 67, 45]"
      ]
     },
     "execution_count": 170,
     "metadata": {},
     "output_type": "execute_result"
    }
   ],
   "source": [
    "num1"
   ]
  },
  {
   "cell_type": "code",
   "execution_count": 172,
   "id": "fb498531-1d02-4f6f-90d9-2959023063e9",
   "metadata": {},
   "outputs": [
    {
     "data": {
      "text/plain": [
       "1"
      ]
     },
     "execution_count": 172,
     "metadata": {},
     "output_type": "execute_result"
    }
   ],
   "source": [
    "num2.count(68)"
   ]
  },
  {
   "cell_type": "code",
   "execution_count": 174,
   "id": "36d4ff6b-58ac-47cd-b71f-ce752f54491c",
   "metadata": {},
   "outputs": [
    {
     "data": {
      "text/plain": [
       "0"
      ]
     },
     "execution_count": 174,
     "metadata": {},
     "output_type": "execute_result"
    }
   ],
   "source": [
    "num2.count(60)"
   ]
  },
  {
   "cell_type": "code",
   "execution_count": 176,
   "id": "25e055e1-fadd-411d-84f5-1292735ab107",
   "metadata": {},
   "outputs": [
    {
     "data": {
      "text/plain": [
       "1"
      ]
     },
     "execution_count": 176,
     "metadata": {},
     "output_type": "execute_result"
    }
   ],
   "source": [
    "num2.count(23)"
   ]
  },
  {
   "cell_type": "code",
   "execution_count": 178,
   "id": "fc84a613-93ae-45de-bde4-10b216dd88d2",
   "metadata": {},
   "outputs": [],
   "source": [
    "num3.add(18)"
   ]
  },
  {
   "cell_type": "code",
   "execution_count": 180,
   "id": "42f7ee77-97d1-4266-812a-2be655df767d",
   "metadata": {},
   "outputs": [
    {
     "data": {
      "text/plain": [
       "{11, 18, 23, 45, 67, 68, 90}"
      ]
     },
     "execution_count": 180,
     "metadata": {},
     "output_type": "execute_result"
    }
   ],
   "source": [
    "num3"
   ]
  },
  {
   "cell_type": "code",
   "execution_count": 182,
   "id": "55dd2820-114e-4183-8b11-70962f963551",
   "metadata": {},
   "outputs": [],
   "source": [
    "num3.add(19)"
   ]
  },
  {
   "cell_type": "code",
   "execution_count": 184,
   "id": "ca6dc706-5a1a-42e7-bfdc-1438783aa0fe",
   "metadata": {},
   "outputs": [
    {
     "data": {
      "text/plain": [
       "{11, 18, 19, 23, 45, 67, 68, 90}"
      ]
     },
     "execution_count": 184,
     "metadata": {},
     "output_type": "execute_result"
    }
   ],
   "source": [
    "num3"
   ]
  },
  {
   "cell_type": "code",
   "execution_count": 186,
   "id": "35eae7b8-306a-47d4-8e54-426d8f69ecdb",
   "metadata": {},
   "outputs": [
    {
     "data": {
      "text/plain": [
       "dict_keys([2, 5, 10, 12, 16, 'x'])"
      ]
     },
     "execution_count": 186,
     "metadata": {},
     "output_type": "execute_result"
    }
   ],
   "source": [
    "num4.keys()"
   ]
  },
  {
   "cell_type": "code",
   "execution_count": 188,
   "id": "b428dc0a-0091-442d-b63c-d14d776af971",
   "metadata": {},
   "outputs": [],
   "source": [
    "name = 'Surya'"
   ]
  },
  {
   "cell_type": "code",
   "execution_count": 190,
   "id": "6450c3a2-de76-44fc-96a9-30509c64fe64",
   "metadata": {},
   "outputs": [
    {
     "data": {
      "text/plain": [
       "'SURYA'"
      ]
     },
     "execution_count": 190,
     "metadata": {},
     "output_type": "execute_result"
    }
   ],
   "source": [
    "name.upper()"
   ]
  },
  {
   "cell_type": "markdown",
   "id": "2e2795ac-2b39-405f-94a8-d1b1419e3923",
   "metadata": {},
   "source": []
  },
  {
   "cell_type": "code",
   "execution_count": 193,
   "id": "0b573cc6-5daf-4a7e-9c7b-6880a927323d",
   "metadata": {},
   "outputs": [
    {
     "data": {
      "text/plain": [
       "'surya'"
      ]
     },
     "execution_count": 193,
     "metadata": {},
     "output_type": "execute_result"
    }
   ],
   "source": [
    "name.lower()"
   ]
  },
  {
   "cell_type": "markdown",
   "id": "8ef9e9e2-a9fb-4030-84cc-ce587c04228a",
   "metadata": {},
   "source": []
  },
  {
   "cell_type": "code",
   "execution_count": 218,
   "id": "fc1f5b01-a8b7-4576-956b-c62bcb69c7e5",
   "metadata": {},
   "outputs": [],
   "source": [
    "class Person:\n",
    "    def __init__(self, n, a) :\n",
    "        self.name = n\n",
    "        self.age = a\n",
    "    def show(self):\n",
    "        print('values are:')\n",
    "        print(self.name, self.age)"
   ]
  },
  {
   "cell_type": "code",
   "execution_count": 220,
   "id": "65590a2f-7e14-4047-9b95-1dca7fbd9593",
   "metadata": {},
   "outputs": [],
   "source": [
    "p1 = Person('ajay', 34)"
   ]
  },
  {
   "cell_type": "code",
   "execution_count": 222,
   "id": "a0fb841e-ec9c-4d8c-8b8e-4842b593c737",
   "metadata": {},
   "outputs": [
    {
     "name": "stdout",
     "output_type": "stream",
     "text": [
      "values are:\n",
      "ajay 34\n"
     ]
    }
   ],
   "source": [
    "p1.show()"
   ]
  },
  {
   "cell_type": "code",
   "execution_count": 224,
   "id": "2bd0237c-d5fe-43bc-9cf3-24b90b7b1bfe",
   "metadata": {},
   "outputs": [
    {
     "data": {
      "text/plain": [
       "'ajay'"
      ]
     },
     "execution_count": 224,
     "metadata": {},
     "output_type": "execute_result"
    }
   ],
   "source": [
    "p1.name"
   ]
  },
  {
   "cell_type": "code",
   "execution_count": 227,
   "id": "10b26bbf-ce70-4c30-a934-b74b61f2fbb0",
   "metadata": {},
   "outputs": [
    {
     "data": {
      "text/plain": [
       "34"
      ]
     },
     "execution_count": 227,
     "metadata": {},
     "output_type": "execute_result"
    }
   ],
   "source": [
    "p1.age"
   ]
  },
  {
   "cell_type": "code",
   "execution_count": 229,
   "id": "fb995de1-f528-4cbd-9a5f-7afc421d4ff2",
   "metadata": {},
   "outputs": [
    {
     "name": "stdout",
     "output_type": "stream",
     "text": [
      "values are:\n",
      "Vijay 21\n"
     ]
    }
   ],
   "source": [
    "p2 = Person('Vijay', 21)\n",
    "p2.show()"
   ]
  },
  {
   "cell_type": "code",
   "execution_count": 231,
   "id": "f4d7e91c-69c1-40ce-9f82-1fb29af68de2",
   "metadata": {},
   "outputs": [],
   "source": [
    "p3 = Person('riya', 34)"
   ]
  },
  {
   "cell_type": "code",
   "execution_count": 233,
   "id": "23ea68cc-5954-4b83-aded-435ad4b4448c",
   "metadata": {},
   "outputs": [
    {
     "name": "stdout",
     "output_type": "stream",
     "text": [
      "values are:\n",
      "riya 34\n"
     ]
    }
   ],
   "source": [
    "p3.show()"
   ]
  },
  {
   "cell_type": "code",
   "execution_count": 235,
   "id": "a7614886-062e-4461-9fdc-6e28d411b2cf",
   "metadata": {},
   "outputs": [
    {
     "data": {
      "text/plain": [
       "34"
      ]
     },
     "execution_count": 235,
     "metadata": {},
     "output_type": "execute_result"
    }
   ],
   "source": [
    "p3.age"
   ]
  },
  {
   "cell_type": "code",
   "execution_count": 237,
   "id": "c34331d2-b59c-4c1a-8949-10cd06db1bdf",
   "metadata": {},
   "outputs": [],
   "source": [
    "# using the libraries"
   ]
  },
  {
   "cell_type": "code",
   "execution_count": 239,
   "id": "07be7ffb-e11e-4be1-bc13-cb9e7f94b243",
   "metadata": {},
   "outputs": [],
   "source": [
    "import math"
   ]
  },
  {
   "cell_type": "code",
   "execution_count": 241,
   "id": "80d86a65-cde6-4abc-bddb-44c5ec1444f7",
   "metadata": {},
   "outputs": [
    {
     "name": "stdout",
     "output_type": "stream",
     "text": [
      "Help on built-in module math:\n",
      "\n",
      "NAME\n",
      "    math\n",
      "\n",
      "DESCRIPTION\n",
      "    This module provides access to the mathematical functions\n",
      "    defined by the C standard.\n",
      "\n",
      "FUNCTIONS\n",
      "    acos(x, /)\n",
      "        Return the arc cosine (measured in radians) of x.\n",
      "\n",
      "        The result is between 0 and pi.\n",
      "\n",
      "    acosh(x, /)\n",
      "        Return the inverse hyperbolic cosine of x.\n",
      "\n",
      "    asin(x, /)\n",
      "        Return the arc sine (measured in radians) of x.\n",
      "\n",
      "        The result is between -pi/2 and pi/2.\n",
      "\n",
      "    asinh(x, /)\n",
      "        Return the inverse hyperbolic sine of x.\n",
      "\n",
      "    atan(x, /)\n",
      "        Return the arc tangent (measured in radians) of x.\n",
      "\n",
      "        The result is between -pi/2 and pi/2.\n",
      "\n",
      "    atan2(y, x, /)\n",
      "        Return the arc tangent (measured in radians) of y/x.\n",
      "\n",
      "        Unlike atan(y/x), the signs of both x and y are considered.\n",
      "\n",
      "    atanh(x, /)\n",
      "        Return the inverse hyperbolic tangent of x.\n",
      "\n",
      "    cbrt(x, /)\n",
      "        Return the cube root of x.\n",
      "\n",
      "    ceil(x, /)\n",
      "        Return the ceiling of x as an Integral.\n",
      "\n",
      "        This is the smallest integer >= x.\n",
      "\n",
      "    comb(n, k, /)\n",
      "        Number of ways to choose k items from n items without repetition and without order.\n",
      "\n",
      "        Evaluates to n! / (k! * (n - k)!) when k <= n and evaluates\n",
      "        to zero when k > n.\n",
      "\n",
      "        Also called the binomial coefficient because it is equivalent\n",
      "        to the coefficient of k-th term in polynomial expansion of the\n",
      "        expression (1 + x)**n.\n",
      "\n",
      "        Raises TypeError if either of the arguments are not integers.\n",
      "        Raises ValueError if either of the arguments are negative.\n",
      "\n",
      "    copysign(x, y, /)\n",
      "        Return a float with the magnitude (absolute value) of x but the sign of y.\n",
      "\n",
      "        On platforms that support signed zeros, copysign(1.0, -0.0)\n",
      "        returns -1.0.\n",
      "\n",
      "    cos(x, /)\n",
      "        Return the cosine of x (measured in radians).\n",
      "\n",
      "    cosh(x, /)\n",
      "        Return the hyperbolic cosine of x.\n",
      "\n",
      "    degrees(x, /)\n",
      "        Convert angle x from radians to degrees.\n",
      "\n",
      "    dist(p, q, /)\n",
      "        Return the Euclidean distance between two points p and q.\n",
      "\n",
      "        The points should be specified as sequences (or iterables) of\n",
      "        coordinates.  Both inputs must have the same dimension.\n",
      "\n",
      "        Roughly equivalent to:\n",
      "            sqrt(sum((px - qx) ** 2.0 for px, qx in zip(p, q)))\n",
      "\n",
      "    erf(x, /)\n",
      "        Error function at x.\n",
      "\n",
      "    erfc(x, /)\n",
      "        Complementary error function at x.\n",
      "\n",
      "    exp(x, /)\n",
      "        Return e raised to the power of x.\n",
      "\n",
      "    exp2(x, /)\n",
      "        Return 2 raised to the power of x.\n",
      "\n",
      "    expm1(x, /)\n",
      "        Return exp(x)-1.\n",
      "\n",
      "        This function avoids the loss of precision involved in the direct evaluation of exp(x)-1 for small x.\n",
      "\n",
      "    fabs(x, /)\n",
      "        Return the absolute value of the float x.\n",
      "\n",
      "    factorial(n, /)\n",
      "        Find n!.\n",
      "\n",
      "        Raise a ValueError if x is negative or non-integral.\n",
      "\n",
      "    floor(x, /)\n",
      "        Return the floor of x as an Integral.\n",
      "\n",
      "        This is the largest integer <= x.\n",
      "\n",
      "    fmod(x, y, /)\n",
      "        Return fmod(x, y), according to platform C.\n",
      "\n",
      "        x % y may differ.\n",
      "\n",
      "    frexp(x, /)\n",
      "        Return the mantissa and exponent of x, as pair (m, e).\n",
      "\n",
      "        m is a float and e is an int, such that x = m * 2.**e.\n",
      "        If x is 0, m and e are both 0.  Else 0.5 <= abs(m) < 1.0.\n",
      "\n",
      "    fsum(seq, /)\n",
      "        Return an accurate floating point sum of values in the iterable seq.\n",
      "\n",
      "        Assumes IEEE-754 floating point arithmetic.\n",
      "\n",
      "    gamma(x, /)\n",
      "        Gamma function at x.\n",
      "\n",
      "    gcd(*integers)\n",
      "        Greatest Common Divisor.\n",
      "\n",
      "    hypot(...)\n",
      "        hypot(*coordinates) -> value\n",
      "\n",
      "        Multidimensional Euclidean distance from the origin to a point.\n",
      "\n",
      "        Roughly equivalent to:\n",
      "            sqrt(sum(x**2 for x in coordinates))\n",
      "\n",
      "        For a two dimensional point (x, y), gives the hypotenuse\n",
      "        using the Pythagorean theorem:  sqrt(x*x + y*y).\n",
      "\n",
      "        For example, the hypotenuse of a 3/4/5 right triangle is:\n",
      "\n",
      "            >>> hypot(3.0, 4.0)\n",
      "            5.0\n",
      "\n",
      "    isclose(a, b, *, rel_tol=1e-09, abs_tol=0.0)\n",
      "        Determine whether two floating point numbers are close in value.\n",
      "\n",
      "          rel_tol\n",
      "            maximum difference for being considered \"close\", relative to the\n",
      "            magnitude of the input values\n",
      "          abs_tol\n",
      "            maximum difference for being considered \"close\", regardless of the\n",
      "            magnitude of the input values\n",
      "\n",
      "        Return True if a is close in value to b, and False otherwise.\n",
      "\n",
      "        For the values to be considered close, the difference between them\n",
      "        must be smaller than at least one of the tolerances.\n",
      "\n",
      "        -inf, inf and NaN behave similarly to the IEEE 754 Standard.  That\n",
      "        is, NaN is not close to anything, even itself.  inf and -inf are\n",
      "        only close to themselves.\n",
      "\n",
      "    isfinite(x, /)\n",
      "        Return True if x is neither an infinity nor a NaN, and False otherwise.\n",
      "\n",
      "    isinf(x, /)\n",
      "        Return True if x is a positive or negative infinity, and False otherwise.\n",
      "\n",
      "    isnan(x, /)\n",
      "        Return True if x is a NaN (not a number), and False otherwise.\n",
      "\n",
      "    isqrt(n, /)\n",
      "        Return the integer part of the square root of the input.\n",
      "\n",
      "    lcm(*integers)\n",
      "        Least Common Multiple.\n",
      "\n",
      "    ldexp(x, i, /)\n",
      "        Return x * (2**i).\n",
      "\n",
      "        This is essentially the inverse of frexp().\n",
      "\n",
      "    lgamma(x, /)\n",
      "        Natural logarithm of absolute value of Gamma function at x.\n",
      "\n",
      "    log(...)\n",
      "        log(x, [base=math.e])\n",
      "        Return the logarithm of x to the given base.\n",
      "\n",
      "        If the base is not specified, returns the natural logarithm (base e) of x.\n",
      "\n",
      "    log10(x, /)\n",
      "        Return the base 10 logarithm of x.\n",
      "\n",
      "    log1p(x, /)\n",
      "        Return the natural logarithm of 1+x (base e).\n",
      "\n",
      "        The result is computed in a way which is accurate for x near zero.\n",
      "\n",
      "    log2(x, /)\n",
      "        Return the base 2 logarithm of x.\n",
      "\n",
      "    modf(x, /)\n",
      "        Return the fractional and integer parts of x.\n",
      "\n",
      "        Both results carry the sign of x and are floats.\n",
      "\n",
      "    nextafter(x, y, /, *, steps=None)\n",
      "        Return the floating-point value the given number of steps after x towards y.\n",
      "\n",
      "        If steps is not specified or is None, it defaults to 1.\n",
      "\n",
      "        Raises a TypeError, if x or y is not a double, or if steps is not an integer.\n",
      "        Raises ValueError if steps is negative.\n",
      "\n",
      "    perm(n, k=None, /)\n",
      "        Number of ways to choose k items from n items without repetition and with order.\n",
      "\n",
      "        Evaluates to n! / (n - k)! when k <= n and evaluates\n",
      "        to zero when k > n.\n",
      "\n",
      "        If k is not specified or is None, then k defaults to n\n",
      "        and the function returns n!.\n",
      "\n",
      "        Raises TypeError if either of the arguments are not integers.\n",
      "        Raises ValueError if either of the arguments are negative.\n",
      "\n",
      "    pow(x, y, /)\n",
      "        Return x**y (x to the power of y).\n",
      "\n",
      "    prod(iterable, /, *, start=1)\n",
      "        Calculate the product of all the elements in the input iterable.\n",
      "\n",
      "        The default start value for the product is 1.\n",
      "\n",
      "        When the iterable is empty, return the start value.  This function is\n",
      "        intended specifically for use with numeric values and may reject\n",
      "        non-numeric types.\n",
      "\n",
      "    radians(x, /)\n",
      "        Convert angle x from degrees to radians.\n",
      "\n",
      "    remainder(x, y, /)\n",
      "        Difference between x and the closest integer multiple of y.\n",
      "\n",
      "        Return x - n*y where n*y is the closest integer multiple of y.\n",
      "        In the case where x is exactly halfway between two multiples of\n",
      "        y, the nearest even value of n is used. The result is always exact.\n",
      "\n",
      "    sin(x, /)\n",
      "        Return the sine of x (measured in radians).\n",
      "\n",
      "    sinh(x, /)\n",
      "        Return the hyperbolic sine of x.\n",
      "\n",
      "    sqrt(x, /)\n",
      "        Return the square root of x.\n",
      "\n",
      "    sumprod(p, q, /)\n",
      "        Return the sum of products of values from two iterables p and q.\n",
      "\n",
      "        Roughly equivalent to:\n",
      "\n",
      "            sum(itertools.starmap(operator.mul, zip(p, q, strict=True)))\n",
      "\n",
      "        For float and mixed int/float inputs, the intermediate products\n",
      "        and sums are computed with extended precision.\n",
      "\n",
      "    tan(x, /)\n",
      "        Return the tangent of x (measured in radians).\n",
      "\n",
      "    tanh(x, /)\n",
      "        Return the hyperbolic tangent of x.\n",
      "\n",
      "    trunc(x, /)\n",
      "        Truncates the Real x to the nearest Integral toward 0.\n",
      "\n",
      "        Uses the __trunc__ magic method.\n",
      "\n",
      "    ulp(x, /)\n",
      "        Return the value of the least significant bit of the float x.\n",
      "\n",
      "DATA\n",
      "    e = 2.718281828459045\n",
      "    inf = inf\n",
      "    nan = nan\n",
      "    pi = 3.141592653589793\n",
      "    tau = 6.283185307179586\n",
      "\n",
      "FILE\n",
      "    (built-in)\n",
      "\n",
      "\n"
     ]
    }
   ],
   "source": [
    "help(math)"
   ]
  },
  {
   "cell_type": "code",
   "execution_count": 289,
   "id": "a5ce0794-b710-48f6-8a2b-0b5d9445914c",
   "metadata": {},
   "outputs": [
    {
     "data": {
      "text/plain": [
       "4.795831523312719"
      ]
     },
     "execution_count": 289,
     "metadata": {},
     "output_type": "execute_result"
    }
   ],
   "source": [
    "math.sqrt(23)"
   ]
  },
  {
   "cell_type": "code",
   "execution_count": 291,
   "id": "aa726545-c424-45b4-920b-db2a362efb06",
   "metadata": {},
   "outputs": [
    {
     "data": {
      "text/plain": [
       "6.708203932499369"
      ]
     },
     "execution_count": 291,
     "metadata": {},
     "output_type": "execute_result"
    }
   ],
   "source": [
    "math.sqrt(45)"
   ]
  },
  {
   "cell_type": "code",
   "execution_count": 293,
   "id": "3e60522b-4a51-4ce9-b433-13b4e533afe3",
   "metadata": {},
   "outputs": [
    {
     "data": {
      "text/plain": [
       "2.4849066497880004"
      ]
     },
     "execution_count": 293,
     "metadata": {},
     "output_type": "execute_result"
    }
   ],
   "source": [
    "math.log(12)"
   ]
  },
  {
   "cell_type": "code",
   "execution_count": 295,
   "id": "94948a0f-6f85-4daa-90ff-14ca199438b1",
   "metadata": {},
   "outputs": [
    {
     "data": {
      "text/plain": [
       "0.3010299956639812"
      ]
     },
     "execution_count": 295,
     "metadata": {},
     "output_type": "execute_result"
    }
   ],
   "source": [
    "math.log10(2)"
   ]
  },
  {
   "cell_type": "code",
   "execution_count": 297,
   "id": "98b3e652-11fe-4dc9-aa1d-a6e157379eec",
   "metadata": {},
   "outputs": [
    {
     "data": {
      "text/plain": [
       "0.8939966636005579"
      ]
     },
     "execution_count": 297,
     "metadata": {},
     "output_type": "execute_result"
    }
   ],
   "source": [
    "math.sin(90)"
   ]
  },
  {
   "cell_type": "code",
   "execution_count": 299,
   "id": "6e8bcf88-9dee-43be-b8b3-cd87fe3bc770",
   "metadata": {},
   "outputs": [
    {
     "data": {
      "text/plain": [
       "120"
      ]
     },
     "execution_count": 299,
     "metadata": {},
     "output_type": "execute_result"
    }
   ],
   "source": [
    "math.factorial(5)"
   ]
  },
  {
   "cell_type": "code",
   "execution_count": 301,
   "id": "a69d1eb7-32f4-4231-8c76-adf458b9322f",
   "metadata": {},
   "outputs": [
    {
     "data": {
      "text/plain": [
       "3.141592653589793"
      ]
     },
     "execution_count": 301,
     "metadata": {},
     "output_type": "execute_result"
    }
   ],
   "source": [
    "math.pi"
   ]
  },
  {
   "cell_type": "code",
   "execution_count": 303,
   "id": "88bfcdfe-9960-4757-b55d-43dddda3a2ca",
   "metadata": {},
   "outputs": [],
   "source": [
    "import math as m"
   ]
  },
  {
   "cell_type": "markdown",
   "id": "f69b55fb-8251-45c5-8e1c-18c69460f700",
   "metadata": {},
   "source": [
    "m.sq"
   ]
  },
  {
   "cell_type": "code",
   "execution_count": 307,
   "id": "1fe25ce0-64a1-4ad2-af99-37bed3483c73",
   "metadata": {},
   "outputs": [
    {
     "data": {
      "text/plain": [
       "7.483314773547883"
      ]
     },
     "execution_count": 307,
     "metadata": {},
     "output_type": "execute_result"
    }
   ],
   "source": [
    "m.sqrt(56)"
   ]
  },
  {
   "cell_type": "code",
   "execution_count": 309,
   "id": "a763dbdc-7209-4ea0-83fa-c2c87f4fda68",
   "metadata": {},
   "outputs": [
    {
     "data": {
      "text/plain": [
       "3.141592653589793"
      ]
     },
     "execution_count": 309,
     "metadata": {},
     "output_type": "execute_result"
    }
   ],
   "source": [
    "m.pi\n"
   ]
  },
  {
   "cell_type": "code",
   "execution_count": 311,
   "id": "70824ae6-18f6-4a61-a830-28f4f6274564",
   "metadata": {},
   "outputs": [
    {
     "data": {
      "text/plain": [
       "0.9542425094393249"
      ]
     },
     "execution_count": 311,
     "metadata": {},
     "output_type": "execute_result"
    }
   ],
   "source": [
    "m.log10(9)"
   ]
  },
  {
   "cell_type": "code",
   "execution_count": null,
   "id": "7b0730ae-ecd9-4a54-8311-262d2a79041e",
   "metadata": {},
   "outputs": [],
   "source": []
  },
  {
   "cell_type": "code",
   "execution_count": 273,
   "id": "cc8d237c-f33a-4f08-91e6-faae41756a4d",
   "metadata": {},
   "outputs": [],
   "source": [
    "from math import sqrt, pi"
   ]
  },
  {
   "cell_type": "code",
   "execution_count": 313,
   "id": "cee1e9f3-2bf5-4c8d-967a-bc7f0ac4b67f",
   "metadata": {},
   "outputs": [
    {
     "data": {
      "text/plain": [
       "3.4641016151377544"
      ]
     },
     "execution_count": 313,
     "metadata": {},
     "output_type": "execute_result"
    }
   ],
   "source": [
    "sqrt(12)"
   ]
  },
  {
   "cell_type": "code",
   "execution_count": 315,
   "id": "6e7a86c5-1811-4be5-8b69-69b9f62f33f3",
   "metadata": {},
   "outputs": [
    {
     "data": {
      "text/plain": [
       "3.141592653589793"
      ]
     },
     "execution_count": 315,
     "metadata": {},
     "output_type": "execute_result"
    }
   ],
   "source": [
    "pi"
   ]
  },
  {
   "cell_type": "code",
   "execution_count": null,
   "id": "ec568f1b-106f-47ce-9531-854531605202",
   "metadata": {},
   "outputs": [],
   "source": []
  }
 ],
 "metadata": {
  "kernelspec": {
   "display_name": "Python 3 (ipykernel)",
   "language": "python",
   "name": "python3"
  },
  "language_info": {
   "codemirror_mode": {
    "name": "ipython",
    "version": 3
   },
   "file_extension": ".py",
   "mimetype": "text/x-python",
   "name": "python",
   "nbconvert_exporter": "python",
   "pygments_lexer": "ipython3",
   "version": "3.12.4"
  }
 },
 "nbformat": 4,
 "nbformat_minor": 5
}
