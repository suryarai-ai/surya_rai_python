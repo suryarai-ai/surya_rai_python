{
 "cells": [
  {
   "cell_type": "markdown",
   "id": "7087d8a3-2bcb-4130-884a-607e5cd8c4c8",
   "metadata": {},
   "source": []
  },
  {
   "cell_type": "markdown",
   "id": "57cee4f0-c695-466f-80ef-e2cf3a0abc71",
   "metadata": {},
   "source": []
  },
  {
   "cell_type": "code",
   "execution_count": 5,
   "id": "1229370c-e939-40c3-b5af-b4d7d694a81e",
   "metadata": {},
   "outputs": [
    {
     "name": "stdin",
     "output_type": "stream",
     "text": [
      "Enter the temperature: 36\n"
     ]
    },
    {
     "name": "stdout",
     "output_type": "stream",
     "text": [
      "f temp 96.8\n"
     ]
    }
   ],
   "source": [
    "cent = int(input('Enter the temperature:'))\n",
    "far = cent*1.8 + 32\n",
    "print('f temp', far)"
   ]
  },
  {
   "cell_type": "code",
   "execution_count": 6,
   "id": "7598d78b-8c2f-4651-a683-3e19e5a23c59",
   "metadata": {},
   "outputs": [
    {
     "data": {
      "text/plain": [
       "int"
      ]
     },
     "execution_count": 6,
     "metadata": {},
     "output_type": "execute_result"
    }
   ],
   "source": [
    "type(cent)"
   ]
  },
  {
   "cell_type": "code",
   "execution_count": 8,
   "id": "08195fa4-63e9-46cb-8fdd-30fba10fb5f0",
   "metadata": {},
   "outputs": [
    {
     "data": {
      "text/plain": [
       "float"
      ]
     },
     "execution_count": 8,
     "metadata": {},
     "output_type": "execute_result"
    }
   ],
   "source": [
    "type(far)"
   ]
  },
  {
   "cell_type": "code",
   "execution_count": null,
   "id": "37a51f81-13db-4bff-afcd-eaf7cfa25814",
   "metadata": {},
   "outputs": [],
   "source": []
  },
  {
   "cell_type": "markdown",
   "id": "7c53298a-39c4-4f5e-9329-54e9fc5d0a84",
   "metadata": {},
   "source": [
    "##### Simple Python Program"
   ]
  },
  {
   "cell_type": "markdown",
   "id": "5da308dd-5877-4d81-ad87-2cf490604dec",
   "metadata": {},
   "source": [
    "##### DEcision Making Statement"
   ]
  },
  {
   "cell_type": "code",
   "execution_count": 13,
   "id": "c68c23f4-b092-46bf-a4e6-1122a73f467e",
   "metadata": {},
   "outputs": [
    {
     "name": "stdin",
     "output_type": "stream",
     "text": [
      "Enter the number:  -56\n"
     ]
    },
    {
     "name": "stdout",
     "output_type": "stream",
     "text": [
      "number is negative:\n"
     ]
    }
   ],
   "source": [
    "num = int(input('Enter the number: '))\n",
    "if num>0:\n",
    "    print('num is positive:')\n",
    "else:\n",
    "    print('number is negative:')\n",
    "    "
   ]
  },
  {
   "cell_type": "code",
   "execution_count": 14,
   "id": "83a3f4fd",
   "metadata": {},
   "outputs": [
    {
     "name": "stdin",
     "output_type": "stream",
     "text": [
      "Enter the number:  0\n"
     ]
    },
    {
     "name": "stdout",
     "output_type": "stream",
     "text": [
      "num is zero:\n"
     ]
    }
   ],
   "source": [
    "num = int(input('Enter the number: '))\n",
    "if num>0:\n",
    "    print('num is positive:')\n",
    "elif num == 0:\n",
    "    print('num is zero:')\n",
    "else:\n",
    "    print('number is negative:')\n",
    "    \n",
    "    "
   ]
  },
  {
   "cell_type": "code",
   "execution_count": 15,
   "id": "e518d7b9",
   "metadata": {},
   "outputs": [
    {
     "ename": "IndentationError",
     "evalue": "expected an indented block after 'if' statement on line 2 (4055257733.py, line 3)",
     "output_type": "error",
     "traceback": [
      "\u001b[1;36m  Cell \u001b[1;32mIn[15], line 3\u001b[1;36m\u001b[0m\n\u001b[1;33m    print('num is positive:')\u001b[0m\n\u001b[1;37m    ^\u001b[0m\n\u001b[1;31mIndentationError\u001b[0m\u001b[1;31m:\u001b[0m expected an indented block after 'if' statement on line 2\n"
     ]
    }
   ],
   "source": [
    "num = int(input('Enter the number: '))\n",
    "if num>0:\n",
    "print('num is positive:')\n",
    "elif num == 0:\n",
    "    print('num is zero:')\n",
    "else:\n",
    "    print('number is negative:')\n",
    "    \n",
    "    "
   ]
  },
  {
   "cell_type": "code",
   "execution_count": 16,
   "id": "314f220c-1d51-4ef0-ad56-9557bdb90970",
   "metadata": {},
   "outputs": [
    {
     "name": "stdout",
     "output_type": "stream",
     "text": [
      "Tushar\n",
      "Tushar\n",
      "Tushar\n",
      "Tushar\n",
      "Tushar\n",
      "Tushar\n",
      "Tushar\n",
      "Tushar\n",
      "Tushar\n",
      "Tushar\n"
     ]
    }
   ],
   "source": [
    "count =0\n",
    "while count< 10:\n",
    "    print('Tushar')\n",
    "    count = count+1"
   ]
  },
  {
   "cell_type": "code",
   "execution_count": null,
   "id": "7e1f3768-02d5-4254-85cc-a2c5b3bbb4cc",
   "metadata": {},
   "outputs": [],
   "source": [
    "for i in 'Pune':\n",
    "    print(i*10)"
   ]
  },
  {
   "cell_type": "code",
   "execution_count": null,
   "id": "1754fb0c-c6dd-4c14-aecc-19963eeb7c01",
   "metadata": {},
   "outputs": [],
   "source": [
    "for i in 'Pune':\n",
    "    print(i*10)"
   ]
  },
  {
   "cell_type": "code",
   "execution_count": null,
   "id": "d098c1a9-1e31-4ece-87a0-948a9cd7915f",
   "metadata": {},
   "outputs": [],
   "source": [
    "num1."
   ]
  }
 ],
 "metadata": {
  "kernelspec": {
   "display_name": "Python 3 (ipykernel)",
   "language": "python",
   "name": "python3"
  },
  "language_info": {
   "codemirror_mode": {
    "name": "ipython",
    "version": 3
   },
   "file_extension": ".py",
   "mimetype": "text/x-python",
   "name": "python",
   "nbconvert_exporter": "python",
   "pygments_lexer": "ipython3",
   "version": "3.11.7"
  }
 },
 "nbformat": 4,
 "nbformat_minor": 5
}
